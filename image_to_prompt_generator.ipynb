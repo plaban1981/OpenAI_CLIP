{
  "nbformat": 4,
  "nbformat_minor": 0,
  "metadata": {
    "colab": {
      "provenance": [],
      "machine_shape": "hm",
      "authorship_tag": "ABX9TyNoL9RDF8V6IjYYzno/u6qu",
      "include_colab_link": true
    },
    "kernelspec": {
      "name": "python3",
      "display_name": "Python 3"
    },
    "language_info": {
      "name": "python"
    },
    "gpuClass": "premium",
    "accelerator": "GPU",
    "widgets": {
      "application/vnd.jupyter.widget-state+json": {
        "710e9bf8244644338c12f946afe40a6c": {
          "model_module": "@jupyter-widgets/controls",
          "model_name": "HBoxModel",
          "model_module_version": "1.5.0",
          "state": {
            "_dom_classes": [],
            "_model_module": "@jupyter-widgets/controls",
            "_model_module_version": "1.5.0",
            "_model_name": "HBoxModel",
            "_view_count": null,
            "_view_module": "@jupyter-widgets/controls",
            "_view_module_version": "1.5.0",
            "_view_name": "HBoxView",
            "box_style": "",
            "children": [
              "IPY_MODEL_60e46ac34f564428aac7d0485cac01d5",
              "IPY_MODEL_f4765a5587b6485eac3a3e8d5f1ad0ac",
              "IPY_MODEL_62687ff949ed4c558c5a8f9ab186605f"
            ],
            "layout": "IPY_MODEL_50b3143591f743fda2f5e4dfa0c98d5e"
          }
        },
        "60e46ac34f564428aac7d0485cac01d5": {
          "model_module": "@jupyter-widgets/controls",
          "model_name": "HTMLModel",
          "model_module_version": "1.5.0",
          "state": {
            "_dom_classes": [],
            "_model_module": "@jupyter-widgets/controls",
            "_model_module_version": "1.5.0",
            "_model_name": "HTMLModel",
            "_view_count": null,
            "_view_module": "@jupyter-widgets/controls",
            "_view_module_version": "1.5.0",
            "_view_name": "HTMLView",
            "description": "",
            "description_tooltip": null,
            "layout": "IPY_MODEL_518184daaacb43d8b09be1f95f2da121",
            "placeholder": "​",
            "style": "IPY_MODEL_49b506c3b00942aa9939eae0e36337c5",
            "value": "Downloading (…)rocessor_config.json: 100%"
          }
        },
        "f4765a5587b6485eac3a3e8d5f1ad0ac": {
          "model_module": "@jupyter-widgets/controls",
          "model_name": "FloatProgressModel",
          "model_module_version": "1.5.0",
          "state": {
            "_dom_classes": [],
            "_model_module": "@jupyter-widgets/controls",
            "_model_module_version": "1.5.0",
            "_model_name": "FloatProgressModel",
            "_view_count": null,
            "_view_module": "@jupyter-widgets/controls",
            "_view_module_version": "1.5.0",
            "_view_name": "ProgressView",
            "bar_style": "success",
            "description": "",
            "description_tooltip": null,
            "layout": "IPY_MODEL_44fc2bac12a34caeb3602134443be5b9",
            "max": 316,
            "min": 0,
            "orientation": "horizontal",
            "style": "IPY_MODEL_0f05f37be9eb4f6386df8d77e6b9056e",
            "value": 316
          }
        },
        "62687ff949ed4c558c5a8f9ab186605f": {
          "model_module": "@jupyter-widgets/controls",
          "model_name": "HTMLModel",
          "model_module_version": "1.5.0",
          "state": {
            "_dom_classes": [],
            "_model_module": "@jupyter-widgets/controls",
            "_model_module_version": "1.5.0",
            "_model_name": "HTMLModel",
            "_view_count": null,
            "_view_module": "@jupyter-widgets/controls",
            "_view_module_version": "1.5.0",
            "_view_name": "HTMLView",
            "description": "",
            "description_tooltip": null,
            "layout": "IPY_MODEL_b49bfa7c8c604db6bddc0b399ca3860a",
            "placeholder": "​",
            "style": "IPY_MODEL_1451b4ab481548c6a62a7dd5964cd933",
            "value": " 316/316 [00:00&lt;00:00, 16.9kB/s]"
          }
        },
        "50b3143591f743fda2f5e4dfa0c98d5e": {
          "model_module": "@jupyter-widgets/base",
          "model_name": "LayoutModel",
          "model_module_version": "1.2.0",
          "state": {
            "_model_module": "@jupyter-widgets/base",
            "_model_module_version": "1.2.0",
            "_model_name": "LayoutModel",
            "_view_count": null,
            "_view_module": "@jupyter-widgets/base",
            "_view_module_version": "1.2.0",
            "_view_name": "LayoutView",
            "align_content": null,
            "align_items": null,
            "align_self": null,
            "border": null,
            "bottom": null,
            "display": null,
            "flex": null,
            "flex_flow": null,
            "grid_area": null,
            "grid_auto_columns": null,
            "grid_auto_flow": null,
            "grid_auto_rows": null,
            "grid_column": null,
            "grid_gap": null,
            "grid_row": null,
            "grid_template_areas": null,
            "grid_template_columns": null,
            "grid_template_rows": null,
            "height": null,
            "justify_content": null,
            "justify_items": null,
            "left": null,
            "margin": null,
            "max_height": null,
            "max_width": null,
            "min_height": null,
            "min_width": null,
            "object_fit": null,
            "object_position": null,
            "order": null,
            "overflow": null,
            "overflow_x": null,
            "overflow_y": null,
            "padding": null,
            "right": null,
            "top": null,
            "visibility": null,
            "width": null
          }
        },
        "518184daaacb43d8b09be1f95f2da121": {
          "model_module": "@jupyter-widgets/base",
          "model_name": "LayoutModel",
          "model_module_version": "1.2.0",
          "state": {
            "_model_module": "@jupyter-widgets/base",
            "_model_module_version": "1.2.0",
            "_model_name": "LayoutModel",
            "_view_count": null,
            "_view_module": "@jupyter-widgets/base",
            "_view_module_version": "1.2.0",
            "_view_name": "LayoutView",
            "align_content": null,
            "align_items": null,
            "align_self": null,
            "border": null,
            "bottom": null,
            "display": null,
            "flex": null,
            "flex_flow": null,
            "grid_area": null,
            "grid_auto_columns": null,
            "grid_auto_flow": null,
            "grid_auto_rows": null,
            "grid_column": null,
            "grid_gap": null,
            "grid_row": null,
            "grid_template_areas": null,
            "grid_template_columns": null,
            "grid_template_rows": null,
            "height": null,
            "justify_content": null,
            "justify_items": null,
            "left": null,
            "margin": null,
            "max_height": null,
            "max_width": null,
            "min_height": null,
            "min_width": null,
            "object_fit": null,
            "object_position": null,
            "order": null,
            "overflow": null,
            "overflow_x": null,
            "overflow_y": null,
            "padding": null,
            "right": null,
            "top": null,
            "visibility": null,
            "width": null
          }
        },
        "49b506c3b00942aa9939eae0e36337c5": {
          "model_module": "@jupyter-widgets/controls",
          "model_name": "DescriptionStyleModel",
          "model_module_version": "1.5.0",
          "state": {
            "_model_module": "@jupyter-widgets/controls",
            "_model_module_version": "1.5.0",
            "_model_name": "DescriptionStyleModel",
            "_view_count": null,
            "_view_module": "@jupyter-widgets/base",
            "_view_module_version": "1.2.0",
            "_view_name": "StyleView",
            "description_width": ""
          }
        },
        "44fc2bac12a34caeb3602134443be5b9": {
          "model_module": "@jupyter-widgets/base",
          "model_name": "LayoutModel",
          "model_module_version": "1.2.0",
          "state": {
            "_model_module": "@jupyter-widgets/base",
            "_model_module_version": "1.2.0",
            "_model_name": "LayoutModel",
            "_view_count": null,
            "_view_module": "@jupyter-widgets/base",
            "_view_module_version": "1.2.0",
            "_view_name": "LayoutView",
            "align_content": null,
            "align_items": null,
            "align_self": null,
            "border": null,
            "bottom": null,
            "display": null,
            "flex": null,
            "flex_flow": null,
            "grid_area": null,
            "grid_auto_columns": null,
            "grid_auto_flow": null,
            "grid_auto_rows": null,
            "grid_column": null,
            "grid_gap": null,
            "grid_row": null,
            "grid_template_areas": null,
            "grid_template_columns": null,
            "grid_template_rows": null,
            "height": null,
            "justify_content": null,
            "justify_items": null,
            "left": null,
            "margin": null,
            "max_height": null,
            "max_width": null,
            "min_height": null,
            "min_width": null,
            "object_fit": null,
            "object_position": null,
            "order": null,
            "overflow": null,
            "overflow_x": null,
            "overflow_y": null,
            "padding": null,
            "right": null,
            "top": null,
            "visibility": null,
            "width": null
          }
        },
        "0f05f37be9eb4f6386df8d77e6b9056e": {
          "model_module": "@jupyter-widgets/controls",
          "model_name": "ProgressStyleModel",
          "model_module_version": "1.5.0",
          "state": {
            "_model_module": "@jupyter-widgets/controls",
            "_model_module_version": "1.5.0",
            "_model_name": "ProgressStyleModel",
            "_view_count": null,
            "_view_module": "@jupyter-widgets/base",
            "_view_module_version": "1.2.0",
            "_view_name": "StyleView",
            "bar_color": null,
            "description_width": ""
          }
        },
        "b49bfa7c8c604db6bddc0b399ca3860a": {
          "model_module": "@jupyter-widgets/base",
          "model_name": "LayoutModel",
          "model_module_version": "1.2.0",
          "state": {
            "_model_module": "@jupyter-widgets/base",
            "_model_module_version": "1.2.0",
            "_model_name": "LayoutModel",
            "_view_count": null,
            "_view_module": "@jupyter-widgets/base",
            "_view_module_version": "1.2.0",
            "_view_name": "LayoutView",
            "align_content": null,
            "align_items": null,
            "align_self": null,
            "border": null,
            "bottom": null,
            "display": null,
            "flex": null,
            "flex_flow": null,
            "grid_area": null,
            "grid_auto_columns": null,
            "grid_auto_flow": null,
            "grid_auto_rows": null,
            "grid_column": null,
            "grid_gap": null,
            "grid_row": null,
            "grid_template_areas": null,
            "grid_template_columns": null,
            "grid_template_rows": null,
            "height": null,
            "justify_content": null,
            "justify_items": null,
            "left": null,
            "margin": null,
            "max_height": null,
            "max_width": null,
            "min_height": null,
            "min_width": null,
            "object_fit": null,
            "object_position": null,
            "order": null,
            "overflow": null,
            "overflow_x": null,
            "overflow_y": null,
            "padding": null,
            "right": null,
            "top": null,
            "visibility": null,
            "width": null
          }
        },
        "1451b4ab481548c6a62a7dd5964cd933": {
          "model_module": "@jupyter-widgets/controls",
          "model_name": "DescriptionStyleModel",
          "model_module_version": "1.5.0",
          "state": {
            "_model_module": "@jupyter-widgets/controls",
            "_model_module_version": "1.5.0",
            "_model_name": "DescriptionStyleModel",
            "_view_count": null,
            "_view_module": "@jupyter-widgets/base",
            "_view_module_version": "1.2.0",
            "_view_name": "StyleView",
            "description_width": ""
          }
        },
        "25f74954176e424e9ac781ed3b5a75ab": {
          "model_module": "@jupyter-widgets/controls",
          "model_name": "HBoxModel",
          "model_module_version": "1.5.0",
          "state": {
            "_dom_classes": [],
            "_model_module": "@jupyter-widgets/controls",
            "_model_module_version": "1.5.0",
            "_model_name": "HBoxModel",
            "_view_count": null,
            "_view_module": "@jupyter-widgets/controls",
            "_view_module_version": "1.5.0",
            "_view_name": "HBoxView",
            "box_style": "",
            "children": [
              "IPY_MODEL_34a40d5725f546c08fbda281dce5ab6e",
              "IPY_MODEL_85c71b541d864e899ac0adbe033d8d53",
              "IPY_MODEL_a36ea599271a484cb2f46adaf44eb84e"
            ],
            "layout": "IPY_MODEL_381d0d3528354f289b0f0c006b0c2597"
          }
        },
        "34a40d5725f546c08fbda281dce5ab6e": {
          "model_module": "@jupyter-widgets/controls",
          "model_name": "HTMLModel",
          "model_module_version": "1.5.0",
          "state": {
            "_dom_classes": [],
            "_model_module": "@jupyter-widgets/controls",
            "_model_module_version": "1.5.0",
            "_model_name": "HTMLModel",
            "_view_count": null,
            "_view_module": "@jupyter-widgets/controls",
            "_view_module_version": "1.5.0",
            "_view_name": "HTMLView",
            "description": "",
            "description_tooltip": null,
            "layout": "IPY_MODEL_863bd6702aef4112bdccdd0d23c9d8ed",
            "placeholder": "​",
            "style": "IPY_MODEL_b81f60a5dc9c498a9a5df9f147784b89",
            "value": "Downloading (…)okenizer_config.json: 100%"
          }
        },
        "85c71b541d864e899ac0adbe033d8d53": {
          "model_module": "@jupyter-widgets/controls",
          "model_name": "FloatProgressModel",
          "model_module_version": "1.5.0",
          "state": {
            "_dom_classes": [],
            "_model_module": "@jupyter-widgets/controls",
            "_model_module_version": "1.5.0",
            "_model_name": "FloatProgressModel",
            "_view_count": null,
            "_view_module": "@jupyter-widgets/controls",
            "_view_module_version": "1.5.0",
            "_view_name": "ProgressView",
            "bar_style": "success",
            "description": "",
            "description_tooltip": null,
            "layout": "IPY_MODEL_0d70fa993aad47c280791dbbd0072a8f",
            "max": 905,
            "min": 0,
            "orientation": "horizontal",
            "style": "IPY_MODEL_b060281c399a4c88b2a2826161bc4492",
            "value": 905
          }
        },
        "a36ea599271a484cb2f46adaf44eb84e": {
          "model_module": "@jupyter-widgets/controls",
          "model_name": "HTMLModel",
          "model_module_version": "1.5.0",
          "state": {
            "_dom_classes": [],
            "_model_module": "@jupyter-widgets/controls",
            "_model_module_version": "1.5.0",
            "_model_name": "HTMLModel",
            "_view_count": null,
            "_view_module": "@jupyter-widgets/controls",
            "_view_module_version": "1.5.0",
            "_view_name": "HTMLView",
            "description": "",
            "description_tooltip": null,
            "layout": "IPY_MODEL_b020ed5c717944c0a5ce8f086bdf3eee",
            "placeholder": "​",
            "style": "IPY_MODEL_e8ee868c549745bebf8a0a26420482aa",
            "value": " 905/905 [00:00&lt;00:00, 51.7kB/s]"
          }
        },
        "381d0d3528354f289b0f0c006b0c2597": {
          "model_module": "@jupyter-widgets/base",
          "model_name": "LayoutModel",
          "model_module_version": "1.2.0",
          "state": {
            "_model_module": "@jupyter-widgets/base",
            "_model_module_version": "1.2.0",
            "_model_name": "LayoutModel",
            "_view_count": null,
            "_view_module": "@jupyter-widgets/base",
            "_view_module_version": "1.2.0",
            "_view_name": "LayoutView",
            "align_content": null,
            "align_items": null,
            "align_self": null,
            "border": null,
            "bottom": null,
            "display": null,
            "flex": null,
            "flex_flow": null,
            "grid_area": null,
            "grid_auto_columns": null,
            "grid_auto_flow": null,
            "grid_auto_rows": null,
            "grid_column": null,
            "grid_gap": null,
            "grid_row": null,
            "grid_template_areas": null,
            "grid_template_columns": null,
            "grid_template_rows": null,
            "height": null,
            "justify_content": null,
            "justify_items": null,
            "left": null,
            "margin": null,
            "max_height": null,
            "max_width": null,
            "min_height": null,
            "min_width": null,
            "object_fit": null,
            "object_position": null,
            "order": null,
            "overflow": null,
            "overflow_x": null,
            "overflow_y": null,
            "padding": null,
            "right": null,
            "top": null,
            "visibility": null,
            "width": null
          }
        },
        "863bd6702aef4112bdccdd0d23c9d8ed": {
          "model_module": "@jupyter-widgets/base",
          "model_name": "LayoutModel",
          "model_module_version": "1.2.0",
          "state": {
            "_model_module": "@jupyter-widgets/base",
            "_model_module_version": "1.2.0",
            "_model_name": "LayoutModel",
            "_view_count": null,
            "_view_module": "@jupyter-widgets/base",
            "_view_module_version": "1.2.0",
            "_view_name": "LayoutView",
            "align_content": null,
            "align_items": null,
            "align_self": null,
            "border": null,
            "bottom": null,
            "display": null,
            "flex": null,
            "flex_flow": null,
            "grid_area": null,
            "grid_auto_columns": null,
            "grid_auto_flow": null,
            "grid_auto_rows": null,
            "grid_column": null,
            "grid_gap": null,
            "grid_row": null,
            "grid_template_areas": null,
            "grid_template_columns": null,
            "grid_template_rows": null,
            "height": null,
            "justify_content": null,
            "justify_items": null,
            "left": null,
            "margin": null,
            "max_height": null,
            "max_width": null,
            "min_height": null,
            "min_width": null,
            "object_fit": null,
            "object_position": null,
            "order": null,
            "overflow": null,
            "overflow_x": null,
            "overflow_y": null,
            "padding": null,
            "right": null,
            "top": null,
            "visibility": null,
            "width": null
          }
        },
        "b81f60a5dc9c498a9a5df9f147784b89": {
          "model_module": "@jupyter-widgets/controls",
          "model_name": "DescriptionStyleModel",
          "model_module_version": "1.5.0",
          "state": {
            "_model_module": "@jupyter-widgets/controls",
            "_model_module_version": "1.5.0",
            "_model_name": "DescriptionStyleModel",
            "_view_count": null,
            "_view_module": "@jupyter-widgets/base",
            "_view_module_version": "1.2.0",
            "_view_name": "StyleView",
            "description_width": ""
          }
        },
        "0d70fa993aad47c280791dbbd0072a8f": {
          "model_module": "@jupyter-widgets/base",
          "model_name": "LayoutModel",
          "model_module_version": "1.2.0",
          "state": {
            "_model_module": "@jupyter-widgets/base",
            "_model_module_version": "1.2.0",
            "_model_name": "LayoutModel",
            "_view_count": null,
            "_view_module": "@jupyter-widgets/base",
            "_view_module_version": "1.2.0",
            "_view_name": "LayoutView",
            "align_content": null,
            "align_items": null,
            "align_self": null,
            "border": null,
            "bottom": null,
            "display": null,
            "flex": null,
            "flex_flow": null,
            "grid_area": null,
            "grid_auto_columns": null,
            "grid_auto_flow": null,
            "grid_auto_rows": null,
            "grid_column": null,
            "grid_gap": null,
            "grid_row": null,
            "grid_template_areas": null,
            "grid_template_columns": null,
            "grid_template_rows": null,
            "height": null,
            "justify_content": null,
            "justify_items": null,
            "left": null,
            "margin": null,
            "max_height": null,
            "max_width": null,
            "min_height": null,
            "min_width": null,
            "object_fit": null,
            "object_position": null,
            "order": null,
            "overflow": null,
            "overflow_x": null,
            "overflow_y": null,
            "padding": null,
            "right": null,
            "top": null,
            "visibility": null,
            "width": null
          }
        },
        "b060281c399a4c88b2a2826161bc4492": {
          "model_module": "@jupyter-widgets/controls",
          "model_name": "ProgressStyleModel",
          "model_module_version": "1.5.0",
          "state": {
            "_model_module": "@jupyter-widgets/controls",
            "_model_module_version": "1.5.0",
            "_model_name": "ProgressStyleModel",
            "_view_count": null,
            "_view_module": "@jupyter-widgets/base",
            "_view_module_version": "1.2.0",
            "_view_name": "StyleView",
            "bar_color": null,
            "description_width": ""
          }
        },
        "b020ed5c717944c0a5ce8f086bdf3eee": {
          "model_module": "@jupyter-widgets/base",
          "model_name": "LayoutModel",
          "model_module_version": "1.2.0",
          "state": {
            "_model_module": "@jupyter-widgets/base",
            "_model_module_version": "1.2.0",
            "_model_name": "LayoutModel",
            "_view_count": null,
            "_view_module": "@jupyter-widgets/base",
            "_view_module_version": "1.2.0",
            "_view_name": "LayoutView",
            "align_content": null,
            "align_items": null,
            "align_self": null,
            "border": null,
            "bottom": null,
            "display": null,
            "flex": null,
            "flex_flow": null,
            "grid_area": null,
            "grid_auto_columns": null,
            "grid_auto_flow": null,
            "grid_auto_rows": null,
            "grid_column": null,
            "grid_gap": null,
            "grid_row": null,
            "grid_template_areas": null,
            "grid_template_columns": null,
            "grid_template_rows": null,
            "height": null,
            "justify_content": null,
            "justify_items": null,
            "left": null,
            "margin": null,
            "max_height": null,
            "max_width": null,
            "min_height": null,
            "min_width": null,
            "object_fit": null,
            "object_position": null,
            "order": null,
            "overflow": null,
            "overflow_x": null,
            "overflow_y": null,
            "padding": null,
            "right": null,
            "top": null,
            "visibility": null,
            "width": null
          }
        },
        "e8ee868c549745bebf8a0a26420482aa": {
          "model_module": "@jupyter-widgets/controls",
          "model_name": "DescriptionStyleModel",
          "model_module_version": "1.5.0",
          "state": {
            "_model_module": "@jupyter-widgets/controls",
            "_model_module_version": "1.5.0",
            "_model_name": "DescriptionStyleModel",
            "_view_count": null,
            "_view_module": "@jupyter-widgets/base",
            "_view_module_version": "1.2.0",
            "_view_name": "StyleView",
            "description_width": ""
          }
        },
        "5b231e7fcbbe4534a249897ae1d72aa0": {
          "model_module": "@jupyter-widgets/controls",
          "model_name": "HBoxModel",
          "model_module_version": "1.5.0",
          "state": {
            "_dom_classes": [],
            "_model_module": "@jupyter-widgets/controls",
            "_model_module_version": "1.5.0",
            "_model_name": "HBoxModel",
            "_view_count": null,
            "_view_module": "@jupyter-widgets/controls",
            "_view_module_version": "1.5.0",
            "_view_name": "HBoxView",
            "box_style": "",
            "children": [
              "IPY_MODEL_a339e9697c6a48218e89047ae9ba8844",
              "IPY_MODEL_ff27becafd444cfdba054af1b34dfeeb",
              "IPY_MODEL_5c31a8f7516146e790e1f5b042ad7502"
            ],
            "layout": "IPY_MODEL_04863db3ea064444852412287f7cae04"
          }
        },
        "a339e9697c6a48218e89047ae9ba8844": {
          "model_module": "@jupyter-widgets/controls",
          "model_name": "HTMLModel",
          "model_module_version": "1.5.0",
          "state": {
            "_dom_classes": [],
            "_model_module": "@jupyter-widgets/controls",
            "_model_module_version": "1.5.0",
            "_model_name": "HTMLModel",
            "_view_count": null,
            "_view_module": "@jupyter-widgets/controls",
            "_view_module_version": "1.5.0",
            "_view_name": "HTMLView",
            "description": "",
            "description_tooltip": null,
            "layout": "IPY_MODEL_291388a1ce1d4fdba0a3d4abe41e7a45",
            "placeholder": "​",
            "style": "IPY_MODEL_edfc1656cb2a48a5b6acda3ca1c3ddde",
            "value": "Downloading (…)lve/main/config.json: 100%"
          }
        },
        "ff27becafd444cfdba054af1b34dfeeb": {
          "model_module": "@jupyter-widgets/controls",
          "model_name": "FloatProgressModel",
          "model_module_version": "1.5.0",
          "state": {
            "_dom_classes": [],
            "_model_module": "@jupyter-widgets/controls",
            "_model_module_version": "1.5.0",
            "_model_name": "FloatProgressModel",
            "_view_count": null,
            "_view_module": "@jupyter-widgets/controls",
            "_view_module_version": "1.5.0",
            "_view_name": "ProgressView",
            "bar_style": "success",
            "description": "",
            "description_tooltip": null,
            "layout": "IPY_MODEL_99c26d51ccfb4e6ea4abe6fad32297f8",
            "max": 4519,
            "min": 0,
            "orientation": "horizontal",
            "style": "IPY_MODEL_e211191ce7154978af7870721e7c9d64",
            "value": 4519
          }
        },
        "5c31a8f7516146e790e1f5b042ad7502": {
          "model_module": "@jupyter-widgets/controls",
          "model_name": "HTMLModel",
          "model_module_version": "1.5.0",
          "state": {
            "_dom_classes": [],
            "_model_module": "@jupyter-widgets/controls",
            "_model_module_version": "1.5.0",
            "_model_name": "HTMLModel",
            "_view_count": null,
            "_view_module": "@jupyter-widgets/controls",
            "_view_module_version": "1.5.0",
            "_view_name": "HTMLView",
            "description": "",
            "description_tooltip": null,
            "layout": "IPY_MODEL_c0e3051bd9a4427089d758cae67a10cc",
            "placeholder": "​",
            "style": "IPY_MODEL_9bcf2ee1382d43c8abcd144a75e286a5",
            "value": " 4.52k/4.52k [00:00&lt;00:00, 333kB/s]"
          }
        },
        "04863db3ea064444852412287f7cae04": {
          "model_module": "@jupyter-widgets/base",
          "model_name": "LayoutModel",
          "model_module_version": "1.2.0",
          "state": {
            "_model_module": "@jupyter-widgets/base",
            "_model_module_version": "1.2.0",
            "_model_name": "LayoutModel",
            "_view_count": null,
            "_view_module": "@jupyter-widgets/base",
            "_view_module_version": "1.2.0",
            "_view_name": "LayoutView",
            "align_content": null,
            "align_items": null,
            "align_self": null,
            "border": null,
            "bottom": null,
            "display": null,
            "flex": null,
            "flex_flow": null,
            "grid_area": null,
            "grid_auto_columns": null,
            "grid_auto_flow": null,
            "grid_auto_rows": null,
            "grid_column": null,
            "grid_gap": null,
            "grid_row": null,
            "grid_template_areas": null,
            "grid_template_columns": null,
            "grid_template_rows": null,
            "height": null,
            "justify_content": null,
            "justify_items": null,
            "left": null,
            "margin": null,
            "max_height": null,
            "max_width": null,
            "min_height": null,
            "min_width": null,
            "object_fit": null,
            "object_position": null,
            "order": null,
            "overflow": null,
            "overflow_x": null,
            "overflow_y": null,
            "padding": null,
            "right": null,
            "top": null,
            "visibility": null,
            "width": null
          }
        },
        "291388a1ce1d4fdba0a3d4abe41e7a45": {
          "model_module": "@jupyter-widgets/base",
          "model_name": "LayoutModel",
          "model_module_version": "1.2.0",
          "state": {
            "_model_module": "@jupyter-widgets/base",
            "_model_module_version": "1.2.0",
            "_model_name": "LayoutModel",
            "_view_count": null,
            "_view_module": "@jupyter-widgets/base",
            "_view_module_version": "1.2.0",
            "_view_name": "LayoutView",
            "align_content": null,
            "align_items": null,
            "align_self": null,
            "border": null,
            "bottom": null,
            "display": null,
            "flex": null,
            "flex_flow": null,
            "grid_area": null,
            "grid_auto_columns": null,
            "grid_auto_flow": null,
            "grid_auto_rows": null,
            "grid_column": null,
            "grid_gap": null,
            "grid_row": null,
            "grid_template_areas": null,
            "grid_template_columns": null,
            "grid_template_rows": null,
            "height": null,
            "justify_content": null,
            "justify_items": null,
            "left": null,
            "margin": null,
            "max_height": null,
            "max_width": null,
            "min_height": null,
            "min_width": null,
            "object_fit": null,
            "object_position": null,
            "order": null,
            "overflow": null,
            "overflow_x": null,
            "overflow_y": null,
            "padding": null,
            "right": null,
            "top": null,
            "visibility": null,
            "width": null
          }
        },
        "edfc1656cb2a48a5b6acda3ca1c3ddde": {
          "model_module": "@jupyter-widgets/controls",
          "model_name": "DescriptionStyleModel",
          "model_module_version": "1.5.0",
          "state": {
            "_model_module": "@jupyter-widgets/controls",
            "_model_module_version": "1.5.0",
            "_model_name": "DescriptionStyleModel",
            "_view_count": null,
            "_view_module": "@jupyter-widgets/base",
            "_view_module_version": "1.2.0",
            "_view_name": "StyleView",
            "description_width": ""
          }
        },
        "99c26d51ccfb4e6ea4abe6fad32297f8": {
          "model_module": "@jupyter-widgets/base",
          "model_name": "LayoutModel",
          "model_module_version": "1.2.0",
          "state": {
            "_model_module": "@jupyter-widgets/base",
            "_model_module_version": "1.2.0",
            "_model_name": "LayoutModel",
            "_view_count": null,
            "_view_module": "@jupyter-widgets/base",
            "_view_module_version": "1.2.0",
            "_view_name": "LayoutView",
            "align_content": null,
            "align_items": null,
            "align_self": null,
            "border": null,
            "bottom": null,
            "display": null,
            "flex": null,
            "flex_flow": null,
            "grid_area": null,
            "grid_auto_columns": null,
            "grid_auto_flow": null,
            "grid_auto_rows": null,
            "grid_column": null,
            "grid_gap": null,
            "grid_row": null,
            "grid_template_areas": null,
            "grid_template_columns": null,
            "grid_template_rows": null,
            "height": null,
            "justify_content": null,
            "justify_items": null,
            "left": null,
            "margin": null,
            "max_height": null,
            "max_width": null,
            "min_height": null,
            "min_width": null,
            "object_fit": null,
            "object_position": null,
            "order": null,
            "overflow": null,
            "overflow_x": null,
            "overflow_y": null,
            "padding": null,
            "right": null,
            "top": null,
            "visibility": null,
            "width": null
          }
        },
        "e211191ce7154978af7870721e7c9d64": {
          "model_module": "@jupyter-widgets/controls",
          "model_name": "ProgressStyleModel",
          "model_module_version": "1.5.0",
          "state": {
            "_model_module": "@jupyter-widgets/controls",
            "_model_module_version": "1.5.0",
            "_model_name": "ProgressStyleModel",
            "_view_count": null,
            "_view_module": "@jupyter-widgets/base",
            "_view_module_version": "1.2.0",
            "_view_name": "StyleView",
            "bar_color": null,
            "description_width": ""
          }
        },
        "c0e3051bd9a4427089d758cae67a10cc": {
          "model_module": "@jupyter-widgets/base",
          "model_name": "LayoutModel",
          "model_module_version": "1.2.0",
          "state": {
            "_model_module": "@jupyter-widgets/base",
            "_model_module_version": "1.2.0",
            "_model_name": "LayoutModel",
            "_view_count": null,
            "_view_module": "@jupyter-widgets/base",
            "_view_module_version": "1.2.0",
            "_view_name": "LayoutView",
            "align_content": null,
            "align_items": null,
            "align_self": null,
            "border": null,
            "bottom": null,
            "display": null,
            "flex": null,
            "flex_flow": null,
            "grid_area": null,
            "grid_auto_columns": null,
            "grid_auto_flow": null,
            "grid_auto_rows": null,
            "grid_column": null,
            "grid_gap": null,
            "grid_row": null,
            "grid_template_areas": null,
            "grid_template_columns": null,
            "grid_template_rows": null,
            "height": null,
            "justify_content": null,
            "justify_items": null,
            "left": null,
            "margin": null,
            "max_height": null,
            "max_width": null,
            "min_height": null,
            "min_width": null,
            "object_fit": null,
            "object_position": null,
            "order": null,
            "overflow": null,
            "overflow_x": null,
            "overflow_y": null,
            "padding": null,
            "right": null,
            "top": null,
            "visibility": null,
            "width": null
          }
        },
        "9bcf2ee1382d43c8abcd144a75e286a5": {
          "model_module": "@jupyter-widgets/controls",
          "model_name": "DescriptionStyleModel",
          "model_module_version": "1.5.0",
          "state": {
            "_model_module": "@jupyter-widgets/controls",
            "_model_module_version": "1.5.0",
            "_model_name": "DescriptionStyleModel",
            "_view_count": null,
            "_view_module": "@jupyter-widgets/base",
            "_view_module_version": "1.2.0",
            "_view_name": "StyleView",
            "description_width": ""
          }
        },
        "06f7ed7691d34f68a637cd21ea60eedc": {
          "model_module": "@jupyter-widgets/controls",
          "model_name": "HBoxModel",
          "model_module_version": "1.5.0",
          "state": {
            "_dom_classes": [],
            "_model_module": "@jupyter-widgets/controls",
            "_model_module_version": "1.5.0",
            "_model_name": "HBoxModel",
            "_view_count": null,
            "_view_module": "@jupyter-widgets/controls",
            "_view_module_version": "1.5.0",
            "_view_name": "HBoxView",
            "box_style": "",
            "children": [
              "IPY_MODEL_baeb048d65fb45da8b06202833b8de49",
              "IPY_MODEL_cb21360021e74d8eaf46c1acf786072e",
              "IPY_MODEL_798eda51b130438a8a7d4aa8a858587f"
            ],
            "layout": "IPY_MODEL_b289a0f68dde472bb20114673f73e296"
          }
        },
        "baeb048d65fb45da8b06202833b8de49": {
          "model_module": "@jupyter-widgets/controls",
          "model_name": "HTMLModel",
          "model_module_version": "1.5.0",
          "state": {
            "_dom_classes": [],
            "_model_module": "@jupyter-widgets/controls",
            "_model_module_version": "1.5.0",
            "_model_name": "HTMLModel",
            "_view_count": null,
            "_view_module": "@jupyter-widgets/controls",
            "_view_module_version": "1.5.0",
            "_view_name": "HTMLView",
            "description": "",
            "description_tooltip": null,
            "layout": "IPY_MODEL_50cbbd87019a4be6a2a497d8f8e8b56c",
            "placeholder": "​",
            "style": "IPY_MODEL_887df5d2bb57487ebf7acf195460c020",
            "value": "Downloading (…)olve/main/vocab.json: 100%"
          }
        },
        "cb21360021e74d8eaf46c1acf786072e": {
          "model_module": "@jupyter-widgets/controls",
          "model_name": "FloatProgressModel",
          "model_module_version": "1.5.0",
          "state": {
            "_dom_classes": [],
            "_model_module": "@jupyter-widgets/controls",
            "_model_module_version": "1.5.0",
            "_model_name": "FloatProgressModel",
            "_view_count": null,
            "_view_module": "@jupyter-widgets/controls",
            "_view_module_version": "1.5.0",
            "_view_name": "ProgressView",
            "bar_style": "success",
            "description": "",
            "description_tooltip": null,
            "layout": "IPY_MODEL_b5f473638bc045a28c7bbd39e561ae42",
            "max": 961143,
            "min": 0,
            "orientation": "horizontal",
            "style": "IPY_MODEL_01c346b9553f48fda2e961e7dead55c7",
            "value": 961143
          }
        },
        "798eda51b130438a8a7d4aa8a858587f": {
          "model_module": "@jupyter-widgets/controls",
          "model_name": "HTMLModel",
          "model_module_version": "1.5.0",
          "state": {
            "_dom_classes": [],
            "_model_module": "@jupyter-widgets/controls",
            "_model_module_version": "1.5.0",
            "_model_name": "HTMLModel",
            "_view_count": null,
            "_view_module": "@jupyter-widgets/controls",
            "_view_module_version": "1.5.0",
            "_view_name": "HTMLView",
            "description": "",
            "description_tooltip": null,
            "layout": "IPY_MODEL_d59774f4ecee451292778ab64840773f",
            "placeholder": "​",
            "style": "IPY_MODEL_fb610596297d4b64958e2c688ec536db",
            "value": " 961k/961k [00:00&lt;00:00, 5.73MB/s]"
          }
        },
        "b289a0f68dde472bb20114673f73e296": {
          "model_module": "@jupyter-widgets/base",
          "model_name": "LayoutModel",
          "model_module_version": "1.2.0",
          "state": {
            "_model_module": "@jupyter-widgets/base",
            "_model_module_version": "1.2.0",
            "_model_name": "LayoutModel",
            "_view_count": null,
            "_view_module": "@jupyter-widgets/base",
            "_view_module_version": "1.2.0",
            "_view_name": "LayoutView",
            "align_content": null,
            "align_items": null,
            "align_self": null,
            "border": null,
            "bottom": null,
            "display": null,
            "flex": null,
            "flex_flow": null,
            "grid_area": null,
            "grid_auto_columns": null,
            "grid_auto_flow": null,
            "grid_auto_rows": null,
            "grid_column": null,
            "grid_gap": null,
            "grid_row": null,
            "grid_template_areas": null,
            "grid_template_columns": null,
            "grid_template_rows": null,
            "height": null,
            "justify_content": null,
            "justify_items": null,
            "left": null,
            "margin": null,
            "max_height": null,
            "max_width": null,
            "min_height": null,
            "min_width": null,
            "object_fit": null,
            "object_position": null,
            "order": null,
            "overflow": null,
            "overflow_x": null,
            "overflow_y": null,
            "padding": null,
            "right": null,
            "top": null,
            "visibility": null,
            "width": null
          }
        },
        "50cbbd87019a4be6a2a497d8f8e8b56c": {
          "model_module": "@jupyter-widgets/base",
          "model_name": "LayoutModel",
          "model_module_version": "1.2.0",
          "state": {
            "_model_module": "@jupyter-widgets/base",
            "_model_module_version": "1.2.0",
            "_model_name": "LayoutModel",
            "_view_count": null,
            "_view_module": "@jupyter-widgets/base",
            "_view_module_version": "1.2.0",
            "_view_name": "LayoutView",
            "align_content": null,
            "align_items": null,
            "align_self": null,
            "border": null,
            "bottom": null,
            "display": null,
            "flex": null,
            "flex_flow": null,
            "grid_area": null,
            "grid_auto_columns": null,
            "grid_auto_flow": null,
            "grid_auto_rows": null,
            "grid_column": null,
            "grid_gap": null,
            "grid_row": null,
            "grid_template_areas": null,
            "grid_template_columns": null,
            "grid_template_rows": null,
            "height": null,
            "justify_content": null,
            "justify_items": null,
            "left": null,
            "margin": null,
            "max_height": null,
            "max_width": null,
            "min_height": null,
            "min_width": null,
            "object_fit": null,
            "object_position": null,
            "order": null,
            "overflow": null,
            "overflow_x": null,
            "overflow_y": null,
            "padding": null,
            "right": null,
            "top": null,
            "visibility": null,
            "width": null
          }
        },
        "887df5d2bb57487ebf7acf195460c020": {
          "model_module": "@jupyter-widgets/controls",
          "model_name": "DescriptionStyleModel",
          "model_module_version": "1.5.0",
          "state": {
            "_model_module": "@jupyter-widgets/controls",
            "_model_module_version": "1.5.0",
            "_model_name": "DescriptionStyleModel",
            "_view_count": null,
            "_view_module": "@jupyter-widgets/base",
            "_view_module_version": "1.2.0",
            "_view_name": "StyleView",
            "description_width": ""
          }
        },
        "b5f473638bc045a28c7bbd39e561ae42": {
          "model_module": "@jupyter-widgets/base",
          "model_name": "LayoutModel",
          "model_module_version": "1.2.0",
          "state": {
            "_model_module": "@jupyter-widgets/base",
            "_model_module_version": "1.2.0",
            "_model_name": "LayoutModel",
            "_view_count": null,
            "_view_module": "@jupyter-widgets/base",
            "_view_module_version": "1.2.0",
            "_view_name": "LayoutView",
            "align_content": null,
            "align_items": null,
            "align_self": null,
            "border": null,
            "bottom": null,
            "display": null,
            "flex": null,
            "flex_flow": null,
            "grid_area": null,
            "grid_auto_columns": null,
            "grid_auto_flow": null,
            "grid_auto_rows": null,
            "grid_column": null,
            "grid_gap": null,
            "grid_row": null,
            "grid_template_areas": null,
            "grid_template_columns": null,
            "grid_template_rows": null,
            "height": null,
            "justify_content": null,
            "justify_items": null,
            "left": null,
            "margin": null,
            "max_height": null,
            "max_width": null,
            "min_height": null,
            "min_width": null,
            "object_fit": null,
            "object_position": null,
            "order": null,
            "overflow": null,
            "overflow_x": null,
            "overflow_y": null,
            "padding": null,
            "right": null,
            "top": null,
            "visibility": null,
            "width": null
          }
        },
        "01c346b9553f48fda2e961e7dead55c7": {
          "model_module": "@jupyter-widgets/controls",
          "model_name": "ProgressStyleModel",
          "model_module_version": "1.5.0",
          "state": {
            "_model_module": "@jupyter-widgets/controls",
            "_model_module_version": "1.5.0",
            "_model_name": "ProgressStyleModel",
            "_view_count": null,
            "_view_module": "@jupyter-widgets/base",
            "_view_module_version": "1.2.0",
            "_view_name": "StyleView",
            "bar_color": null,
            "description_width": ""
          }
        },
        "d59774f4ecee451292778ab64840773f": {
          "model_module": "@jupyter-widgets/base",
          "model_name": "LayoutModel",
          "model_module_version": "1.2.0",
          "state": {
            "_model_module": "@jupyter-widgets/base",
            "_model_module_version": "1.2.0",
            "_model_name": "LayoutModel",
            "_view_count": null,
            "_view_module": "@jupyter-widgets/base",
            "_view_module_version": "1.2.0",
            "_view_name": "LayoutView",
            "align_content": null,
            "align_items": null,
            "align_self": null,
            "border": null,
            "bottom": null,
            "display": null,
            "flex": null,
            "flex_flow": null,
            "grid_area": null,
            "grid_auto_columns": null,
            "grid_auto_flow": null,
            "grid_auto_rows": null,
            "grid_column": null,
            "grid_gap": null,
            "grid_row": null,
            "grid_template_areas": null,
            "grid_template_columns": null,
            "grid_template_rows": null,
            "height": null,
            "justify_content": null,
            "justify_items": null,
            "left": null,
            "margin": null,
            "max_height": null,
            "max_width": null,
            "min_height": null,
            "min_width": null,
            "object_fit": null,
            "object_position": null,
            "order": null,
            "overflow": null,
            "overflow_x": null,
            "overflow_y": null,
            "padding": null,
            "right": null,
            "top": null,
            "visibility": null,
            "width": null
          }
        },
        "fb610596297d4b64958e2c688ec536db": {
          "model_module": "@jupyter-widgets/controls",
          "model_name": "DescriptionStyleModel",
          "model_module_version": "1.5.0",
          "state": {
            "_model_module": "@jupyter-widgets/controls",
            "_model_module_version": "1.5.0",
            "_model_name": "DescriptionStyleModel",
            "_view_count": null,
            "_view_module": "@jupyter-widgets/base",
            "_view_module_version": "1.2.0",
            "_view_name": "StyleView",
            "description_width": ""
          }
        },
        "d4a4b56c81464e06ae88a67b4d61d599": {
          "model_module": "@jupyter-widgets/controls",
          "model_name": "HBoxModel",
          "model_module_version": "1.5.0",
          "state": {
            "_dom_classes": [],
            "_model_module": "@jupyter-widgets/controls",
            "_model_module_version": "1.5.0",
            "_model_name": "HBoxModel",
            "_view_count": null,
            "_view_module": "@jupyter-widgets/controls",
            "_view_module_version": "1.5.0",
            "_view_name": "HBoxView",
            "box_style": "",
            "children": [
              "IPY_MODEL_7ea71de4b199440c9e4b2a8df3cbba34",
              "IPY_MODEL_4e4eeace95564d7a9b19012d1f176f6d",
              "IPY_MODEL_eb4243cb732840bcab1ddbf995b8afb0"
            ],
            "layout": "IPY_MODEL_37997161849c4bd381ceb2435e7b7680"
          }
        },
        "7ea71de4b199440c9e4b2a8df3cbba34": {
          "model_module": "@jupyter-widgets/controls",
          "model_name": "HTMLModel",
          "model_module_version": "1.5.0",
          "state": {
            "_dom_classes": [],
            "_model_module": "@jupyter-widgets/controls",
            "_model_module_version": "1.5.0",
            "_model_name": "HTMLModel",
            "_view_count": null,
            "_view_module": "@jupyter-widgets/controls",
            "_view_module_version": "1.5.0",
            "_view_name": "HTMLView",
            "description": "",
            "description_tooltip": null,
            "layout": "IPY_MODEL_4b1a8468bcd44f39899ce03db1856ef6",
            "placeholder": "​",
            "style": "IPY_MODEL_5277e75525114a7496964a29fb4ad137",
            "value": "Downloading (…)olve/main/merges.txt: 100%"
          }
        },
        "4e4eeace95564d7a9b19012d1f176f6d": {
          "model_module": "@jupyter-widgets/controls",
          "model_name": "FloatProgressModel",
          "model_module_version": "1.5.0",
          "state": {
            "_dom_classes": [],
            "_model_module": "@jupyter-widgets/controls",
            "_model_module_version": "1.5.0",
            "_model_name": "FloatProgressModel",
            "_view_count": null,
            "_view_module": "@jupyter-widgets/controls",
            "_view_module_version": "1.5.0",
            "_view_name": "ProgressView",
            "bar_style": "success",
            "description": "",
            "description_tooltip": null,
            "layout": "IPY_MODEL_634516091ebd4e16a096acb5bff6498f",
            "max": 524619,
            "min": 0,
            "orientation": "horizontal",
            "style": "IPY_MODEL_c135a5bf45344c329b337b882025cef1",
            "value": 524619
          }
        },
        "eb4243cb732840bcab1ddbf995b8afb0": {
          "model_module": "@jupyter-widgets/controls",
          "model_name": "HTMLModel",
          "model_module_version": "1.5.0",
          "state": {
            "_dom_classes": [],
            "_model_module": "@jupyter-widgets/controls",
            "_model_module_version": "1.5.0",
            "_model_name": "HTMLModel",
            "_view_count": null,
            "_view_module": "@jupyter-widgets/controls",
            "_view_module_version": "1.5.0",
            "_view_name": "HTMLView",
            "description": "",
            "description_tooltip": null,
            "layout": "IPY_MODEL_b12f25c371be497c856becc73f329d52",
            "placeholder": "​",
            "style": "IPY_MODEL_ad164784ff5145fe8a4f1689ac3bcf69",
            "value": " 525k/525k [00:00&lt;00:00, 3.97MB/s]"
          }
        },
        "37997161849c4bd381ceb2435e7b7680": {
          "model_module": "@jupyter-widgets/base",
          "model_name": "LayoutModel",
          "model_module_version": "1.2.0",
          "state": {
            "_model_module": "@jupyter-widgets/base",
            "_model_module_version": "1.2.0",
            "_model_name": "LayoutModel",
            "_view_count": null,
            "_view_module": "@jupyter-widgets/base",
            "_view_module_version": "1.2.0",
            "_view_name": "LayoutView",
            "align_content": null,
            "align_items": null,
            "align_self": null,
            "border": null,
            "bottom": null,
            "display": null,
            "flex": null,
            "flex_flow": null,
            "grid_area": null,
            "grid_auto_columns": null,
            "grid_auto_flow": null,
            "grid_auto_rows": null,
            "grid_column": null,
            "grid_gap": null,
            "grid_row": null,
            "grid_template_areas": null,
            "grid_template_columns": null,
            "grid_template_rows": null,
            "height": null,
            "justify_content": null,
            "justify_items": null,
            "left": null,
            "margin": null,
            "max_height": null,
            "max_width": null,
            "min_height": null,
            "min_width": null,
            "object_fit": null,
            "object_position": null,
            "order": null,
            "overflow": null,
            "overflow_x": null,
            "overflow_y": null,
            "padding": null,
            "right": null,
            "top": null,
            "visibility": null,
            "width": null
          }
        },
        "4b1a8468bcd44f39899ce03db1856ef6": {
          "model_module": "@jupyter-widgets/base",
          "model_name": "LayoutModel",
          "model_module_version": "1.2.0",
          "state": {
            "_model_module": "@jupyter-widgets/base",
            "_model_module_version": "1.2.0",
            "_model_name": "LayoutModel",
            "_view_count": null,
            "_view_module": "@jupyter-widgets/base",
            "_view_module_version": "1.2.0",
            "_view_name": "LayoutView",
            "align_content": null,
            "align_items": null,
            "align_self": null,
            "border": null,
            "bottom": null,
            "display": null,
            "flex": null,
            "flex_flow": null,
            "grid_area": null,
            "grid_auto_columns": null,
            "grid_auto_flow": null,
            "grid_auto_rows": null,
            "grid_column": null,
            "grid_gap": null,
            "grid_row": null,
            "grid_template_areas": null,
            "grid_template_columns": null,
            "grid_template_rows": null,
            "height": null,
            "justify_content": null,
            "justify_items": null,
            "left": null,
            "margin": null,
            "max_height": null,
            "max_width": null,
            "min_height": null,
            "min_width": null,
            "object_fit": null,
            "object_position": null,
            "order": null,
            "overflow": null,
            "overflow_x": null,
            "overflow_y": null,
            "padding": null,
            "right": null,
            "top": null,
            "visibility": null,
            "width": null
          }
        },
        "5277e75525114a7496964a29fb4ad137": {
          "model_module": "@jupyter-widgets/controls",
          "model_name": "DescriptionStyleModel",
          "model_module_version": "1.5.0",
          "state": {
            "_model_module": "@jupyter-widgets/controls",
            "_model_module_version": "1.5.0",
            "_model_name": "DescriptionStyleModel",
            "_view_count": null,
            "_view_module": "@jupyter-widgets/base",
            "_view_module_version": "1.2.0",
            "_view_name": "StyleView",
            "description_width": ""
          }
        },
        "634516091ebd4e16a096acb5bff6498f": {
          "model_module": "@jupyter-widgets/base",
          "model_name": "LayoutModel",
          "model_module_version": "1.2.0",
          "state": {
            "_model_module": "@jupyter-widgets/base",
            "_model_module_version": "1.2.0",
            "_model_name": "LayoutModel",
            "_view_count": null,
            "_view_module": "@jupyter-widgets/base",
            "_view_module_version": "1.2.0",
            "_view_name": "LayoutView",
            "align_content": null,
            "align_items": null,
            "align_self": null,
            "border": null,
            "bottom": null,
            "display": null,
            "flex": null,
            "flex_flow": null,
            "grid_area": null,
            "grid_auto_columns": null,
            "grid_auto_flow": null,
            "grid_auto_rows": null,
            "grid_column": null,
            "grid_gap": null,
            "grid_row": null,
            "grid_template_areas": null,
            "grid_template_columns": null,
            "grid_template_rows": null,
            "height": null,
            "justify_content": null,
            "justify_items": null,
            "left": null,
            "margin": null,
            "max_height": null,
            "max_width": null,
            "min_height": null,
            "min_width": null,
            "object_fit": null,
            "object_position": null,
            "order": null,
            "overflow": null,
            "overflow_x": null,
            "overflow_y": null,
            "padding": null,
            "right": null,
            "top": null,
            "visibility": null,
            "width": null
          }
        },
        "c135a5bf45344c329b337b882025cef1": {
          "model_module": "@jupyter-widgets/controls",
          "model_name": "ProgressStyleModel",
          "model_module_version": "1.5.0",
          "state": {
            "_model_module": "@jupyter-widgets/controls",
            "_model_module_version": "1.5.0",
            "_model_name": "ProgressStyleModel",
            "_view_count": null,
            "_view_module": "@jupyter-widgets/base",
            "_view_module_version": "1.2.0",
            "_view_name": "StyleView",
            "bar_color": null,
            "description_width": ""
          }
        },
        "b12f25c371be497c856becc73f329d52": {
          "model_module": "@jupyter-widgets/base",
          "model_name": "LayoutModel",
          "model_module_version": "1.2.0",
          "state": {
            "_model_module": "@jupyter-widgets/base",
            "_model_module_version": "1.2.0",
            "_model_name": "LayoutModel",
            "_view_count": null,
            "_view_module": "@jupyter-widgets/base",
            "_view_module_version": "1.2.0",
            "_view_name": "LayoutView",
            "align_content": null,
            "align_items": null,
            "align_self": null,
            "border": null,
            "bottom": null,
            "display": null,
            "flex": null,
            "flex_flow": null,
            "grid_area": null,
            "grid_auto_columns": null,
            "grid_auto_flow": null,
            "grid_auto_rows": null,
            "grid_column": null,
            "grid_gap": null,
            "grid_row": null,
            "grid_template_areas": null,
            "grid_template_columns": null,
            "grid_template_rows": null,
            "height": null,
            "justify_content": null,
            "justify_items": null,
            "left": null,
            "margin": null,
            "max_height": null,
            "max_width": null,
            "min_height": null,
            "min_width": null,
            "object_fit": null,
            "object_position": null,
            "order": null,
            "overflow": null,
            "overflow_x": null,
            "overflow_y": null,
            "padding": null,
            "right": null,
            "top": null,
            "visibility": null,
            "width": null
          }
        },
        "ad164784ff5145fe8a4f1689ac3bcf69": {
          "model_module": "@jupyter-widgets/controls",
          "model_name": "DescriptionStyleModel",
          "model_module_version": "1.5.0",
          "state": {
            "_model_module": "@jupyter-widgets/controls",
            "_model_module_version": "1.5.0",
            "_model_name": "DescriptionStyleModel",
            "_view_count": null,
            "_view_module": "@jupyter-widgets/base",
            "_view_module_version": "1.2.0",
            "_view_name": "StyleView",
            "description_width": ""
          }
        },
        "290bf66a546d4002921e09712794e9f1": {
          "model_module": "@jupyter-widgets/controls",
          "model_name": "HBoxModel",
          "model_module_version": "1.5.0",
          "state": {
            "_dom_classes": [],
            "_model_module": "@jupyter-widgets/controls",
            "_model_module_version": "1.5.0",
            "_model_name": "HBoxModel",
            "_view_count": null,
            "_view_module": "@jupyter-widgets/controls",
            "_view_module_version": "1.5.0",
            "_view_name": "HBoxView",
            "box_style": "",
            "children": [
              "IPY_MODEL_ad2949a219d84f32a8ad5c940792be5c",
              "IPY_MODEL_e2fd043f7f3945f8a092114f6f5975c4",
              "IPY_MODEL_3bdd332b55e3481ea19ce9065a157fe9"
            ],
            "layout": "IPY_MODEL_3f9d919e4dc040dd92613ed02ed07449"
          }
        },
        "ad2949a219d84f32a8ad5c940792be5c": {
          "model_module": "@jupyter-widgets/controls",
          "model_name": "HTMLModel",
          "model_module_version": "1.5.0",
          "state": {
            "_dom_classes": [],
            "_model_module": "@jupyter-widgets/controls",
            "_model_module_version": "1.5.0",
            "_model_name": "HTMLModel",
            "_view_count": null,
            "_view_module": "@jupyter-widgets/controls",
            "_view_module_version": "1.5.0",
            "_view_name": "HTMLView",
            "description": "",
            "description_tooltip": null,
            "layout": "IPY_MODEL_1e1f52496a5540a2b8de179c01e08e37",
            "placeholder": "​",
            "style": "IPY_MODEL_fda96941fc504c92878b238a8a3c751f",
            "value": "Downloading (…)/main/tokenizer.json: 100%"
          }
        },
        "e2fd043f7f3945f8a092114f6f5975c4": {
          "model_module": "@jupyter-widgets/controls",
          "model_name": "FloatProgressModel",
          "model_module_version": "1.5.0",
          "state": {
            "_dom_classes": [],
            "_model_module": "@jupyter-widgets/controls",
            "_model_module_version": "1.5.0",
            "_model_name": "FloatProgressModel",
            "_view_count": null,
            "_view_module": "@jupyter-widgets/controls",
            "_view_module_version": "1.5.0",
            "_view_name": "ProgressView",
            "bar_style": "success",
            "description": "",
            "description_tooltip": null,
            "layout": "IPY_MODEL_a56b4b73bf5b40f3802e7bd554f3ccfc",
            "max": 2224003,
            "min": 0,
            "orientation": "horizontal",
            "style": "IPY_MODEL_f932f5d2ea234ce6b78903011aac38ae",
            "value": 2224003
          }
        },
        "3bdd332b55e3481ea19ce9065a157fe9": {
          "model_module": "@jupyter-widgets/controls",
          "model_name": "HTMLModel",
          "model_module_version": "1.5.0",
          "state": {
            "_dom_classes": [],
            "_model_module": "@jupyter-widgets/controls",
            "_model_module_version": "1.5.0",
            "_model_name": "HTMLModel",
            "_view_count": null,
            "_view_module": "@jupyter-widgets/controls",
            "_view_module_version": "1.5.0",
            "_view_name": "HTMLView",
            "description": "",
            "description_tooltip": null,
            "layout": "IPY_MODEL_ec3b27812f144cb388bf5bb51438fde3",
            "placeholder": "​",
            "style": "IPY_MODEL_61cbed09ff0c4efdb19bb489852f341d",
            "value": " 2.22M/2.22M [00:00&lt;00:00, 12.7MB/s]"
          }
        },
        "3f9d919e4dc040dd92613ed02ed07449": {
          "model_module": "@jupyter-widgets/base",
          "model_name": "LayoutModel",
          "model_module_version": "1.2.0",
          "state": {
            "_model_module": "@jupyter-widgets/base",
            "_model_module_version": "1.2.0",
            "_model_name": "LayoutModel",
            "_view_count": null,
            "_view_module": "@jupyter-widgets/base",
            "_view_module_version": "1.2.0",
            "_view_name": "LayoutView",
            "align_content": null,
            "align_items": null,
            "align_self": null,
            "border": null,
            "bottom": null,
            "display": null,
            "flex": null,
            "flex_flow": null,
            "grid_area": null,
            "grid_auto_columns": null,
            "grid_auto_flow": null,
            "grid_auto_rows": null,
            "grid_column": null,
            "grid_gap": null,
            "grid_row": null,
            "grid_template_areas": null,
            "grid_template_columns": null,
            "grid_template_rows": null,
            "height": null,
            "justify_content": null,
            "justify_items": null,
            "left": null,
            "margin": null,
            "max_height": null,
            "max_width": null,
            "min_height": null,
            "min_width": null,
            "object_fit": null,
            "object_position": null,
            "order": null,
            "overflow": null,
            "overflow_x": null,
            "overflow_y": null,
            "padding": null,
            "right": null,
            "top": null,
            "visibility": null,
            "width": null
          }
        },
        "1e1f52496a5540a2b8de179c01e08e37": {
          "model_module": "@jupyter-widgets/base",
          "model_name": "LayoutModel",
          "model_module_version": "1.2.0",
          "state": {
            "_model_module": "@jupyter-widgets/base",
            "_model_module_version": "1.2.0",
            "_model_name": "LayoutModel",
            "_view_count": null,
            "_view_module": "@jupyter-widgets/base",
            "_view_module_version": "1.2.0",
            "_view_name": "LayoutView",
            "align_content": null,
            "align_items": null,
            "align_self": null,
            "border": null,
            "bottom": null,
            "display": null,
            "flex": null,
            "flex_flow": null,
            "grid_area": null,
            "grid_auto_columns": null,
            "grid_auto_flow": null,
            "grid_auto_rows": null,
            "grid_column": null,
            "grid_gap": null,
            "grid_row": null,
            "grid_template_areas": null,
            "grid_template_columns": null,
            "grid_template_rows": null,
            "height": null,
            "justify_content": null,
            "justify_items": null,
            "left": null,
            "margin": null,
            "max_height": null,
            "max_width": null,
            "min_height": null,
            "min_width": null,
            "object_fit": null,
            "object_position": null,
            "order": null,
            "overflow": null,
            "overflow_x": null,
            "overflow_y": null,
            "padding": null,
            "right": null,
            "top": null,
            "visibility": null,
            "width": null
          }
        },
        "fda96941fc504c92878b238a8a3c751f": {
          "model_module": "@jupyter-widgets/controls",
          "model_name": "DescriptionStyleModel",
          "model_module_version": "1.5.0",
          "state": {
            "_model_module": "@jupyter-widgets/controls",
            "_model_module_version": "1.5.0",
            "_model_name": "DescriptionStyleModel",
            "_view_count": null,
            "_view_module": "@jupyter-widgets/base",
            "_view_module_version": "1.2.0",
            "_view_name": "StyleView",
            "description_width": ""
          }
        },
        "a56b4b73bf5b40f3802e7bd554f3ccfc": {
          "model_module": "@jupyter-widgets/base",
          "model_name": "LayoutModel",
          "model_module_version": "1.2.0",
          "state": {
            "_model_module": "@jupyter-widgets/base",
            "_model_module_version": "1.2.0",
            "_model_name": "LayoutModel",
            "_view_count": null,
            "_view_module": "@jupyter-widgets/base",
            "_view_module_version": "1.2.0",
            "_view_name": "LayoutView",
            "align_content": null,
            "align_items": null,
            "align_self": null,
            "border": null,
            "bottom": null,
            "display": null,
            "flex": null,
            "flex_flow": null,
            "grid_area": null,
            "grid_auto_columns": null,
            "grid_auto_flow": null,
            "grid_auto_rows": null,
            "grid_column": null,
            "grid_gap": null,
            "grid_row": null,
            "grid_template_areas": null,
            "grid_template_columns": null,
            "grid_template_rows": null,
            "height": null,
            "justify_content": null,
            "justify_items": null,
            "left": null,
            "margin": null,
            "max_height": null,
            "max_width": null,
            "min_height": null,
            "min_width": null,
            "object_fit": null,
            "object_position": null,
            "order": null,
            "overflow": null,
            "overflow_x": null,
            "overflow_y": null,
            "padding": null,
            "right": null,
            "top": null,
            "visibility": null,
            "width": null
          }
        },
        "f932f5d2ea234ce6b78903011aac38ae": {
          "model_module": "@jupyter-widgets/controls",
          "model_name": "ProgressStyleModel",
          "model_module_version": "1.5.0",
          "state": {
            "_model_module": "@jupyter-widgets/controls",
            "_model_module_version": "1.5.0",
            "_model_name": "ProgressStyleModel",
            "_view_count": null,
            "_view_module": "@jupyter-widgets/base",
            "_view_module_version": "1.2.0",
            "_view_name": "StyleView",
            "bar_color": null,
            "description_width": ""
          }
        },
        "ec3b27812f144cb388bf5bb51438fde3": {
          "model_module": "@jupyter-widgets/base",
          "model_name": "LayoutModel",
          "model_module_version": "1.2.0",
          "state": {
            "_model_module": "@jupyter-widgets/base",
            "_model_module_version": "1.2.0",
            "_model_name": "LayoutModel",
            "_view_count": null,
            "_view_module": "@jupyter-widgets/base",
            "_view_module_version": "1.2.0",
            "_view_name": "LayoutView",
            "align_content": null,
            "align_items": null,
            "align_self": null,
            "border": null,
            "bottom": null,
            "display": null,
            "flex": null,
            "flex_flow": null,
            "grid_area": null,
            "grid_auto_columns": null,
            "grid_auto_flow": null,
            "grid_auto_rows": null,
            "grid_column": null,
            "grid_gap": null,
            "grid_row": null,
            "grid_template_areas": null,
            "grid_template_columns": null,
            "grid_template_rows": null,
            "height": null,
            "justify_content": null,
            "justify_items": null,
            "left": null,
            "margin": null,
            "max_height": null,
            "max_width": null,
            "min_height": null,
            "min_width": null,
            "object_fit": null,
            "object_position": null,
            "order": null,
            "overflow": null,
            "overflow_x": null,
            "overflow_y": null,
            "padding": null,
            "right": null,
            "top": null,
            "visibility": null,
            "width": null
          }
        },
        "61cbed09ff0c4efdb19bb489852f341d": {
          "model_module": "@jupyter-widgets/controls",
          "model_name": "DescriptionStyleModel",
          "model_module_version": "1.5.0",
          "state": {
            "_model_module": "@jupyter-widgets/controls",
            "_model_module_version": "1.5.0",
            "_model_name": "DescriptionStyleModel",
            "_view_count": null,
            "_view_module": "@jupyter-widgets/base",
            "_view_module_version": "1.2.0",
            "_view_name": "StyleView",
            "description_width": ""
          }
        },
        "5899d081460f4336831edb02118fb338": {
          "model_module": "@jupyter-widgets/controls",
          "model_name": "HBoxModel",
          "model_module_version": "1.5.0",
          "state": {
            "_dom_classes": [],
            "_model_module": "@jupyter-widgets/controls",
            "_model_module_version": "1.5.0",
            "_model_name": "HBoxModel",
            "_view_count": null,
            "_view_module": "@jupyter-widgets/controls",
            "_view_module_version": "1.5.0",
            "_view_name": "HBoxView",
            "box_style": "",
            "children": [
              "IPY_MODEL_cdff0e569a1c4bb3a983ae06119ce262",
              "IPY_MODEL_ad5ddc58cdee4d99a27b7c06d8213b49",
              "IPY_MODEL_00c25a64cf1b4bc9935cd30d96736f72"
            ],
            "layout": "IPY_MODEL_aaee7c03f4564352a6ad7b67592e7f25"
          }
        },
        "cdff0e569a1c4bb3a983ae06119ce262": {
          "model_module": "@jupyter-widgets/controls",
          "model_name": "HTMLModel",
          "model_module_version": "1.5.0",
          "state": {
            "_dom_classes": [],
            "_model_module": "@jupyter-widgets/controls",
            "_model_module_version": "1.5.0",
            "_model_name": "HTMLModel",
            "_view_count": null,
            "_view_module": "@jupyter-widgets/controls",
            "_view_module_version": "1.5.0",
            "_view_name": "HTMLView",
            "description": "",
            "description_tooltip": null,
            "layout": "IPY_MODEL_b912c99b8efa498299b419f3f50083cd",
            "placeholder": "​",
            "style": "IPY_MODEL_497354debcfa4610b7b4a00a7f458309",
            "value": "Downloading (…)cial_tokens_map.json: 100%"
          }
        },
        "ad5ddc58cdee4d99a27b7c06d8213b49": {
          "model_module": "@jupyter-widgets/controls",
          "model_name": "FloatProgressModel",
          "model_module_version": "1.5.0",
          "state": {
            "_dom_classes": [],
            "_model_module": "@jupyter-widgets/controls",
            "_model_module_version": "1.5.0",
            "_model_name": "FloatProgressModel",
            "_view_count": null,
            "_view_module": "@jupyter-widgets/controls",
            "_view_module_version": "1.5.0",
            "_view_name": "ProgressView",
            "bar_style": "success",
            "description": "",
            "description_tooltip": null,
            "layout": "IPY_MODEL_e626d74fef9143758a0491ee6c29a69e",
            "max": 389,
            "min": 0,
            "orientation": "horizontal",
            "style": "IPY_MODEL_185e3f8064f147b38b49f4a8517f20cc",
            "value": 389
          }
        },
        "00c25a64cf1b4bc9935cd30d96736f72": {
          "model_module": "@jupyter-widgets/controls",
          "model_name": "HTMLModel",
          "model_module_version": "1.5.0",
          "state": {
            "_dom_classes": [],
            "_model_module": "@jupyter-widgets/controls",
            "_model_module_version": "1.5.0",
            "_model_name": "HTMLModel",
            "_view_count": null,
            "_view_module": "@jupyter-widgets/controls",
            "_view_module_version": "1.5.0",
            "_view_name": "HTMLView",
            "description": "",
            "description_tooltip": null,
            "layout": "IPY_MODEL_42b946fb1fed43bc9118be833ee43a7d",
            "placeholder": "​",
            "style": "IPY_MODEL_42eae4bb81804faf8824524b45f35ac0",
            "value": " 389/389 [00:00&lt;00:00, 31.2kB/s]"
          }
        },
        "aaee7c03f4564352a6ad7b67592e7f25": {
          "model_module": "@jupyter-widgets/base",
          "model_name": "LayoutModel",
          "model_module_version": "1.2.0",
          "state": {
            "_model_module": "@jupyter-widgets/base",
            "_model_module_version": "1.2.0",
            "_model_name": "LayoutModel",
            "_view_count": null,
            "_view_module": "@jupyter-widgets/base",
            "_view_module_version": "1.2.0",
            "_view_name": "LayoutView",
            "align_content": null,
            "align_items": null,
            "align_self": null,
            "border": null,
            "bottom": null,
            "display": null,
            "flex": null,
            "flex_flow": null,
            "grid_area": null,
            "grid_auto_columns": null,
            "grid_auto_flow": null,
            "grid_auto_rows": null,
            "grid_column": null,
            "grid_gap": null,
            "grid_row": null,
            "grid_template_areas": null,
            "grid_template_columns": null,
            "grid_template_rows": null,
            "height": null,
            "justify_content": null,
            "justify_items": null,
            "left": null,
            "margin": null,
            "max_height": null,
            "max_width": null,
            "min_height": null,
            "min_width": null,
            "object_fit": null,
            "object_position": null,
            "order": null,
            "overflow": null,
            "overflow_x": null,
            "overflow_y": null,
            "padding": null,
            "right": null,
            "top": null,
            "visibility": null,
            "width": null
          }
        },
        "b912c99b8efa498299b419f3f50083cd": {
          "model_module": "@jupyter-widgets/base",
          "model_name": "LayoutModel",
          "model_module_version": "1.2.0",
          "state": {
            "_model_module": "@jupyter-widgets/base",
            "_model_module_version": "1.2.0",
            "_model_name": "LayoutModel",
            "_view_count": null,
            "_view_module": "@jupyter-widgets/base",
            "_view_module_version": "1.2.0",
            "_view_name": "LayoutView",
            "align_content": null,
            "align_items": null,
            "align_self": null,
            "border": null,
            "bottom": null,
            "display": null,
            "flex": null,
            "flex_flow": null,
            "grid_area": null,
            "grid_auto_columns": null,
            "grid_auto_flow": null,
            "grid_auto_rows": null,
            "grid_column": null,
            "grid_gap": null,
            "grid_row": null,
            "grid_template_areas": null,
            "grid_template_columns": null,
            "grid_template_rows": null,
            "height": null,
            "justify_content": null,
            "justify_items": null,
            "left": null,
            "margin": null,
            "max_height": null,
            "max_width": null,
            "min_height": null,
            "min_width": null,
            "object_fit": null,
            "object_position": null,
            "order": null,
            "overflow": null,
            "overflow_x": null,
            "overflow_y": null,
            "padding": null,
            "right": null,
            "top": null,
            "visibility": null,
            "width": null
          }
        },
        "497354debcfa4610b7b4a00a7f458309": {
          "model_module": "@jupyter-widgets/controls",
          "model_name": "DescriptionStyleModel",
          "model_module_version": "1.5.0",
          "state": {
            "_model_module": "@jupyter-widgets/controls",
            "_model_module_version": "1.5.0",
            "_model_name": "DescriptionStyleModel",
            "_view_count": null,
            "_view_module": "@jupyter-widgets/base",
            "_view_module_version": "1.2.0",
            "_view_name": "StyleView",
            "description_width": ""
          }
        },
        "e626d74fef9143758a0491ee6c29a69e": {
          "model_module": "@jupyter-widgets/base",
          "model_name": "LayoutModel",
          "model_module_version": "1.2.0",
          "state": {
            "_model_module": "@jupyter-widgets/base",
            "_model_module_version": "1.2.0",
            "_model_name": "LayoutModel",
            "_view_count": null,
            "_view_module": "@jupyter-widgets/base",
            "_view_module_version": "1.2.0",
            "_view_name": "LayoutView",
            "align_content": null,
            "align_items": null,
            "align_self": null,
            "border": null,
            "bottom": null,
            "display": null,
            "flex": null,
            "flex_flow": null,
            "grid_area": null,
            "grid_auto_columns": null,
            "grid_auto_flow": null,
            "grid_auto_rows": null,
            "grid_column": null,
            "grid_gap": null,
            "grid_row": null,
            "grid_template_areas": null,
            "grid_template_columns": null,
            "grid_template_rows": null,
            "height": null,
            "justify_content": null,
            "justify_items": null,
            "left": null,
            "margin": null,
            "max_height": null,
            "max_width": null,
            "min_height": null,
            "min_width": null,
            "object_fit": null,
            "object_position": null,
            "order": null,
            "overflow": null,
            "overflow_x": null,
            "overflow_y": null,
            "padding": null,
            "right": null,
            "top": null,
            "visibility": null,
            "width": null
          }
        },
        "185e3f8064f147b38b49f4a8517f20cc": {
          "model_module": "@jupyter-widgets/controls",
          "model_name": "ProgressStyleModel",
          "model_module_version": "1.5.0",
          "state": {
            "_model_module": "@jupyter-widgets/controls",
            "_model_module_version": "1.5.0",
            "_model_name": "ProgressStyleModel",
            "_view_count": null,
            "_view_module": "@jupyter-widgets/base",
            "_view_module_version": "1.2.0",
            "_view_name": "StyleView",
            "bar_color": null,
            "description_width": ""
          }
        },
        "42b946fb1fed43bc9118be833ee43a7d": {
          "model_module": "@jupyter-widgets/base",
          "model_name": "LayoutModel",
          "model_module_version": "1.2.0",
          "state": {
            "_model_module": "@jupyter-widgets/base",
            "_model_module_version": "1.2.0",
            "_model_name": "LayoutModel",
            "_view_count": null,
            "_view_module": "@jupyter-widgets/base",
            "_view_module_version": "1.2.0",
            "_view_name": "LayoutView",
            "align_content": null,
            "align_items": null,
            "align_self": null,
            "border": null,
            "bottom": null,
            "display": null,
            "flex": null,
            "flex_flow": null,
            "grid_area": null,
            "grid_auto_columns": null,
            "grid_auto_flow": null,
            "grid_auto_rows": null,
            "grid_column": null,
            "grid_gap": null,
            "grid_row": null,
            "grid_template_areas": null,
            "grid_template_columns": null,
            "grid_template_rows": null,
            "height": null,
            "justify_content": null,
            "justify_items": null,
            "left": null,
            "margin": null,
            "max_height": null,
            "max_width": null,
            "min_height": null,
            "min_width": null,
            "object_fit": null,
            "object_position": null,
            "order": null,
            "overflow": null,
            "overflow_x": null,
            "overflow_y": null,
            "padding": null,
            "right": null,
            "top": null,
            "visibility": null,
            "width": null
          }
        },
        "42eae4bb81804faf8824524b45f35ac0": {
          "model_module": "@jupyter-widgets/controls",
          "model_name": "DescriptionStyleModel",
          "model_module_version": "1.5.0",
          "state": {
            "_model_module": "@jupyter-widgets/controls",
            "_model_module_version": "1.5.0",
            "_model_name": "DescriptionStyleModel",
            "_view_count": null,
            "_view_module": "@jupyter-widgets/base",
            "_view_module_version": "1.2.0",
            "_view_name": "StyleView",
            "description_width": ""
          }
        },
        "cf907e1a7f084f97bf1dea5e59aa0439": {
          "model_module": "@jupyter-widgets/controls",
          "model_name": "HBoxModel",
          "model_module_version": "1.5.0",
          "state": {
            "_dom_classes": [],
            "_model_module": "@jupyter-widgets/controls",
            "_model_module_version": "1.5.0",
            "_model_name": "HBoxModel",
            "_view_count": null,
            "_view_module": "@jupyter-widgets/controls",
            "_view_module_version": "1.5.0",
            "_view_name": "HBoxView",
            "box_style": "",
            "children": [
              "IPY_MODEL_b16f9a149a3940d78405c540d10a94db",
              "IPY_MODEL_e34248f8022d4a8c84c6a277b7c8e3ff",
              "IPY_MODEL_12fb56a1ee6b4313846ef96f77491a35"
            ],
            "layout": "IPY_MODEL_6031544ac7c14b99a294ac76547bad24"
          }
        },
        "b16f9a149a3940d78405c540d10a94db": {
          "model_module": "@jupyter-widgets/controls",
          "model_name": "HTMLModel",
          "model_module_version": "1.5.0",
          "state": {
            "_dom_classes": [],
            "_model_module": "@jupyter-widgets/controls",
            "_model_module_version": "1.5.0",
            "_model_name": "HTMLModel",
            "_view_count": null,
            "_view_module": "@jupyter-widgets/controls",
            "_view_module_version": "1.5.0",
            "_view_name": "HTMLView",
            "description": "",
            "description_tooltip": null,
            "layout": "IPY_MODEL_b6c47b5746e8460e85d57c6ad9e4dc18",
            "placeholder": "​",
            "style": "IPY_MODEL_ecff38ad3af3404c83166d70d1abf2f5",
            "value": "Downloading pytorch_model.bin: 100%"
          }
        },
        "e34248f8022d4a8c84c6a277b7c8e3ff": {
          "model_module": "@jupyter-widgets/controls",
          "model_name": "FloatProgressModel",
          "model_module_version": "1.5.0",
          "state": {
            "_dom_classes": [],
            "_model_module": "@jupyter-widgets/controls",
            "_model_module_version": "1.5.0",
            "_model_name": "FloatProgressModel",
            "_view_count": null,
            "_view_module": "@jupyter-widgets/controls",
            "_view_module_version": "1.5.0",
            "_view_name": "ProgressView",
            "bar_style": "success",
            "description": "",
            "description_tooltip": null,
            "layout": "IPY_MODEL_f6560ce22cee41679810212a24e5de15",
            "max": 1710671599,
            "min": 0,
            "orientation": "horizontal",
            "style": "IPY_MODEL_5d9c628ef9ec49e3a67cbbdd017c4b7d",
            "value": 1710671599
          }
        },
        "12fb56a1ee6b4313846ef96f77491a35": {
          "model_module": "@jupyter-widgets/controls",
          "model_name": "HTMLModel",
          "model_module_version": "1.5.0",
          "state": {
            "_dom_classes": [],
            "_model_module": "@jupyter-widgets/controls",
            "_model_module_version": "1.5.0",
            "_model_name": "HTMLModel",
            "_view_count": null,
            "_view_module": "@jupyter-widgets/controls",
            "_view_module_version": "1.5.0",
            "_view_name": "HTMLView",
            "description": "",
            "description_tooltip": null,
            "layout": "IPY_MODEL_fd2e2f24e201421fb201e6b9188ba91b",
            "placeholder": "​",
            "style": "IPY_MODEL_d2ddf2ad2be9423496d506da534d3023",
            "value": " 1.71G/1.71G [00:08&lt;00:00, 196MB/s]"
          }
        },
        "6031544ac7c14b99a294ac76547bad24": {
          "model_module": "@jupyter-widgets/base",
          "model_name": "LayoutModel",
          "model_module_version": "1.2.0",
          "state": {
            "_model_module": "@jupyter-widgets/base",
            "_model_module_version": "1.2.0",
            "_model_name": "LayoutModel",
            "_view_count": null,
            "_view_module": "@jupyter-widgets/base",
            "_view_module_version": "1.2.0",
            "_view_name": "LayoutView",
            "align_content": null,
            "align_items": null,
            "align_self": null,
            "border": null,
            "bottom": null,
            "display": null,
            "flex": null,
            "flex_flow": null,
            "grid_area": null,
            "grid_auto_columns": null,
            "grid_auto_flow": null,
            "grid_auto_rows": null,
            "grid_column": null,
            "grid_gap": null,
            "grid_row": null,
            "grid_template_areas": null,
            "grid_template_columns": null,
            "grid_template_rows": null,
            "height": null,
            "justify_content": null,
            "justify_items": null,
            "left": null,
            "margin": null,
            "max_height": null,
            "max_width": null,
            "min_height": null,
            "min_width": null,
            "object_fit": null,
            "object_position": null,
            "order": null,
            "overflow": null,
            "overflow_x": null,
            "overflow_y": null,
            "padding": null,
            "right": null,
            "top": null,
            "visibility": null,
            "width": null
          }
        },
        "b6c47b5746e8460e85d57c6ad9e4dc18": {
          "model_module": "@jupyter-widgets/base",
          "model_name": "LayoutModel",
          "model_module_version": "1.2.0",
          "state": {
            "_model_module": "@jupyter-widgets/base",
            "_model_module_version": "1.2.0",
            "_model_name": "LayoutModel",
            "_view_count": null,
            "_view_module": "@jupyter-widgets/base",
            "_view_module_version": "1.2.0",
            "_view_name": "LayoutView",
            "align_content": null,
            "align_items": null,
            "align_self": null,
            "border": null,
            "bottom": null,
            "display": null,
            "flex": null,
            "flex_flow": null,
            "grid_area": null,
            "grid_auto_columns": null,
            "grid_auto_flow": null,
            "grid_auto_rows": null,
            "grid_column": null,
            "grid_gap": null,
            "grid_row": null,
            "grid_template_areas": null,
            "grid_template_columns": null,
            "grid_template_rows": null,
            "height": null,
            "justify_content": null,
            "justify_items": null,
            "left": null,
            "margin": null,
            "max_height": null,
            "max_width": null,
            "min_height": null,
            "min_width": null,
            "object_fit": null,
            "object_position": null,
            "order": null,
            "overflow": null,
            "overflow_x": null,
            "overflow_y": null,
            "padding": null,
            "right": null,
            "top": null,
            "visibility": null,
            "width": null
          }
        },
        "ecff38ad3af3404c83166d70d1abf2f5": {
          "model_module": "@jupyter-widgets/controls",
          "model_name": "DescriptionStyleModel",
          "model_module_version": "1.5.0",
          "state": {
            "_model_module": "@jupyter-widgets/controls",
            "_model_module_version": "1.5.0",
            "_model_name": "DescriptionStyleModel",
            "_view_count": null,
            "_view_module": "@jupyter-widgets/base",
            "_view_module_version": "1.2.0",
            "_view_name": "StyleView",
            "description_width": ""
          }
        },
        "f6560ce22cee41679810212a24e5de15": {
          "model_module": "@jupyter-widgets/base",
          "model_name": "LayoutModel",
          "model_module_version": "1.2.0",
          "state": {
            "_model_module": "@jupyter-widgets/base",
            "_model_module_version": "1.2.0",
            "_model_name": "LayoutModel",
            "_view_count": null,
            "_view_module": "@jupyter-widgets/base",
            "_view_module_version": "1.2.0",
            "_view_name": "LayoutView",
            "align_content": null,
            "align_items": null,
            "align_self": null,
            "border": null,
            "bottom": null,
            "display": null,
            "flex": null,
            "flex_flow": null,
            "grid_area": null,
            "grid_auto_columns": null,
            "grid_auto_flow": null,
            "grid_auto_rows": null,
            "grid_column": null,
            "grid_gap": null,
            "grid_row": null,
            "grid_template_areas": null,
            "grid_template_columns": null,
            "grid_template_rows": null,
            "height": null,
            "justify_content": null,
            "justify_items": null,
            "left": null,
            "margin": null,
            "max_height": null,
            "max_width": null,
            "min_height": null,
            "min_width": null,
            "object_fit": null,
            "object_position": null,
            "order": null,
            "overflow": null,
            "overflow_x": null,
            "overflow_y": null,
            "padding": null,
            "right": null,
            "top": null,
            "visibility": null,
            "width": null
          }
        },
        "5d9c628ef9ec49e3a67cbbdd017c4b7d": {
          "model_module": "@jupyter-widgets/controls",
          "model_name": "ProgressStyleModel",
          "model_module_version": "1.5.0",
          "state": {
            "_model_module": "@jupyter-widgets/controls",
            "_model_module_version": "1.5.0",
            "_model_name": "ProgressStyleModel",
            "_view_count": null,
            "_view_module": "@jupyter-widgets/base",
            "_view_module_version": "1.2.0",
            "_view_name": "StyleView",
            "bar_color": null,
            "description_width": ""
          }
        },
        "fd2e2f24e201421fb201e6b9188ba91b": {
          "model_module": "@jupyter-widgets/base",
          "model_name": "LayoutModel",
          "model_module_version": "1.2.0",
          "state": {
            "_model_module": "@jupyter-widgets/base",
            "_model_module_version": "1.2.0",
            "_model_name": "LayoutModel",
            "_view_count": null,
            "_view_module": "@jupyter-widgets/base",
            "_view_module_version": "1.2.0",
            "_view_name": "LayoutView",
            "align_content": null,
            "align_items": null,
            "align_self": null,
            "border": null,
            "bottom": null,
            "display": null,
            "flex": null,
            "flex_flow": null,
            "grid_area": null,
            "grid_auto_columns": null,
            "grid_auto_flow": null,
            "grid_auto_rows": null,
            "grid_column": null,
            "grid_gap": null,
            "grid_row": null,
            "grid_template_areas": null,
            "grid_template_columns": null,
            "grid_template_rows": null,
            "height": null,
            "justify_content": null,
            "justify_items": null,
            "left": null,
            "margin": null,
            "max_height": null,
            "max_width": null,
            "min_height": null,
            "min_width": null,
            "object_fit": null,
            "object_position": null,
            "order": null,
            "overflow": null,
            "overflow_x": null,
            "overflow_y": null,
            "padding": null,
            "right": null,
            "top": null,
            "visibility": null,
            "width": null
          }
        },
        "d2ddf2ad2be9423496d506da534d3023": {
          "model_module": "@jupyter-widgets/controls",
          "model_name": "DescriptionStyleModel",
          "model_module_version": "1.5.0",
          "state": {
            "_model_module": "@jupyter-widgets/controls",
            "_model_module_version": "1.5.0",
            "_model_name": "DescriptionStyleModel",
            "_view_count": null,
            "_view_module": "@jupyter-widgets/base",
            "_view_module_version": "1.2.0",
            "_view_name": "StyleView",
            "description_width": ""
          }
        },
        "45c0edefe52f4d67a9eec8eeadf9a383": {
          "model_module": "@jupyter-widgets/controls",
          "model_name": "HBoxModel",
          "model_module_version": "1.5.0",
          "state": {
            "_dom_classes": [],
            "_model_module": "@jupyter-widgets/controls",
            "_model_module_version": "1.5.0",
            "_model_name": "HBoxModel",
            "_view_count": null,
            "_view_module": "@jupyter-widgets/controls",
            "_view_module_version": "1.5.0",
            "_view_name": "HBoxView",
            "box_style": "",
            "children": [
              "IPY_MODEL_86638d5b2db44c24921471bb27c06b2b",
              "IPY_MODEL_93b9a0205c5e4e26a0397b980fa0a3f3",
              "IPY_MODEL_9ac6824a8b444ccc8a051f904c84d2b6"
            ],
            "layout": "IPY_MODEL_be6fa528a847499ea9f7116f4727e023"
          }
        },
        "86638d5b2db44c24921471bb27c06b2b": {
          "model_module": "@jupyter-widgets/controls",
          "model_name": "HTMLModel",
          "model_module_version": "1.5.0",
          "state": {
            "_dom_classes": [],
            "_model_module": "@jupyter-widgets/controls",
            "_model_module_version": "1.5.0",
            "_model_name": "HTMLModel",
            "_view_count": null,
            "_view_module": "@jupyter-widgets/controls",
            "_view_module_version": "1.5.0",
            "_view_name": "HTMLView",
            "description": "",
            "description_tooltip": null,
            "layout": "IPY_MODEL_4fea0b8bbb8644b58208f85ccc7e1042",
            "placeholder": "​",
            "style": "IPY_MODEL_bef3b4ba1cf2408e8c05993cf6bd03bb",
            "value": "Downloading: 100%"
          }
        },
        "93b9a0205c5e4e26a0397b980fa0a3f3": {
          "model_module": "@jupyter-widgets/controls",
          "model_name": "FloatProgressModel",
          "model_module_version": "1.5.0",
          "state": {
            "_dom_classes": [],
            "_model_module": "@jupyter-widgets/controls",
            "_model_module_version": "1.5.0",
            "_model_name": "FloatProgressModel",
            "_view_count": null,
            "_view_module": "@jupyter-widgets/controls",
            "_view_module_version": "1.5.0",
            "_view_name": "ProgressView",
            "bar_style": "success",
            "description": "",
            "description_tooltip": null,
            "layout": "IPY_MODEL_1fe77adb3b32408b856e415d1ba47c00",
            "max": 466062,
            "min": 0,
            "orientation": "horizontal",
            "style": "IPY_MODEL_28b54ba2fae24f1799ba2da213df5031",
            "value": 466062
          }
        },
        "9ac6824a8b444ccc8a051f904c84d2b6": {
          "model_module": "@jupyter-widgets/controls",
          "model_name": "HTMLModel",
          "model_module_version": "1.5.0",
          "state": {
            "_dom_classes": [],
            "_model_module": "@jupyter-widgets/controls",
            "_model_module_version": "1.5.0",
            "_model_name": "HTMLModel",
            "_view_count": null,
            "_view_module": "@jupyter-widgets/controls",
            "_view_module_version": "1.5.0",
            "_view_name": "HTMLView",
            "description": "",
            "description_tooltip": null,
            "layout": "IPY_MODEL_98b154c3796643e6a8ccbab836547c66",
            "placeholder": "​",
            "style": "IPY_MODEL_9dbfb97c2cb241dbb034152af17d506f",
            "value": " 455k/455k [00:00&lt;00:00, 2.10MB/s]"
          }
        },
        "be6fa528a847499ea9f7116f4727e023": {
          "model_module": "@jupyter-widgets/base",
          "model_name": "LayoutModel",
          "model_module_version": "1.2.0",
          "state": {
            "_model_module": "@jupyter-widgets/base",
            "_model_module_version": "1.2.0",
            "_model_name": "LayoutModel",
            "_view_count": null,
            "_view_module": "@jupyter-widgets/base",
            "_view_module_version": "1.2.0",
            "_view_name": "LayoutView",
            "align_content": null,
            "align_items": null,
            "align_self": null,
            "border": null,
            "bottom": null,
            "display": null,
            "flex": null,
            "flex_flow": null,
            "grid_area": null,
            "grid_auto_columns": null,
            "grid_auto_flow": null,
            "grid_auto_rows": null,
            "grid_column": null,
            "grid_gap": null,
            "grid_row": null,
            "grid_template_areas": null,
            "grid_template_columns": null,
            "grid_template_rows": null,
            "height": null,
            "justify_content": null,
            "justify_items": null,
            "left": null,
            "margin": null,
            "max_height": null,
            "max_width": null,
            "min_height": null,
            "min_width": null,
            "object_fit": null,
            "object_position": null,
            "order": null,
            "overflow": null,
            "overflow_x": null,
            "overflow_y": null,
            "padding": null,
            "right": null,
            "top": null,
            "visibility": null,
            "width": null
          }
        },
        "4fea0b8bbb8644b58208f85ccc7e1042": {
          "model_module": "@jupyter-widgets/base",
          "model_name": "LayoutModel",
          "model_module_version": "1.2.0",
          "state": {
            "_model_module": "@jupyter-widgets/base",
            "_model_module_version": "1.2.0",
            "_model_name": "LayoutModel",
            "_view_count": null,
            "_view_module": "@jupyter-widgets/base",
            "_view_module_version": "1.2.0",
            "_view_name": "LayoutView",
            "align_content": null,
            "align_items": null,
            "align_self": null,
            "border": null,
            "bottom": null,
            "display": null,
            "flex": null,
            "flex_flow": null,
            "grid_area": null,
            "grid_auto_columns": null,
            "grid_auto_flow": null,
            "grid_auto_rows": null,
            "grid_column": null,
            "grid_gap": null,
            "grid_row": null,
            "grid_template_areas": null,
            "grid_template_columns": null,
            "grid_template_rows": null,
            "height": null,
            "justify_content": null,
            "justify_items": null,
            "left": null,
            "margin": null,
            "max_height": null,
            "max_width": null,
            "min_height": null,
            "min_width": null,
            "object_fit": null,
            "object_position": null,
            "order": null,
            "overflow": null,
            "overflow_x": null,
            "overflow_y": null,
            "padding": null,
            "right": null,
            "top": null,
            "visibility": null,
            "width": null
          }
        },
        "bef3b4ba1cf2408e8c05993cf6bd03bb": {
          "model_module": "@jupyter-widgets/controls",
          "model_name": "DescriptionStyleModel",
          "model_module_version": "1.5.0",
          "state": {
            "_model_module": "@jupyter-widgets/controls",
            "_model_module_version": "1.5.0",
            "_model_name": "DescriptionStyleModel",
            "_view_count": null,
            "_view_module": "@jupyter-widgets/base",
            "_view_module_version": "1.2.0",
            "_view_name": "StyleView",
            "description_width": ""
          }
        },
        "1fe77adb3b32408b856e415d1ba47c00": {
          "model_module": "@jupyter-widgets/base",
          "model_name": "LayoutModel",
          "model_module_version": "1.2.0",
          "state": {
            "_model_module": "@jupyter-widgets/base",
            "_model_module_version": "1.2.0",
            "_model_name": "LayoutModel",
            "_view_count": null,
            "_view_module": "@jupyter-widgets/base",
            "_view_module_version": "1.2.0",
            "_view_name": "LayoutView",
            "align_content": null,
            "align_items": null,
            "align_self": null,
            "border": null,
            "bottom": null,
            "display": null,
            "flex": null,
            "flex_flow": null,
            "grid_area": null,
            "grid_auto_columns": null,
            "grid_auto_flow": null,
            "grid_auto_rows": null,
            "grid_column": null,
            "grid_gap": null,
            "grid_row": null,
            "grid_template_areas": null,
            "grid_template_columns": null,
            "grid_template_rows": null,
            "height": null,
            "justify_content": null,
            "justify_items": null,
            "left": null,
            "margin": null,
            "max_height": null,
            "max_width": null,
            "min_height": null,
            "min_width": null,
            "object_fit": null,
            "object_position": null,
            "order": null,
            "overflow": null,
            "overflow_x": null,
            "overflow_y": null,
            "padding": null,
            "right": null,
            "top": null,
            "visibility": null,
            "width": null
          }
        },
        "28b54ba2fae24f1799ba2da213df5031": {
          "model_module": "@jupyter-widgets/controls",
          "model_name": "ProgressStyleModel",
          "model_module_version": "1.5.0",
          "state": {
            "_model_module": "@jupyter-widgets/controls",
            "_model_module_version": "1.5.0",
            "_model_name": "ProgressStyleModel",
            "_view_count": null,
            "_view_module": "@jupyter-widgets/base",
            "_view_module_version": "1.2.0",
            "_view_name": "StyleView",
            "bar_color": null,
            "description_width": ""
          }
        },
        "98b154c3796643e6a8ccbab836547c66": {
          "model_module": "@jupyter-widgets/base",
          "model_name": "LayoutModel",
          "model_module_version": "1.2.0",
          "state": {
            "_model_module": "@jupyter-widgets/base",
            "_model_module_version": "1.2.0",
            "_model_name": "LayoutModel",
            "_view_count": null,
            "_view_module": "@jupyter-widgets/base",
            "_view_module_version": "1.2.0",
            "_view_name": "LayoutView",
            "align_content": null,
            "align_items": null,
            "align_self": null,
            "border": null,
            "bottom": null,
            "display": null,
            "flex": null,
            "flex_flow": null,
            "grid_area": null,
            "grid_auto_columns": null,
            "grid_auto_flow": null,
            "grid_auto_rows": null,
            "grid_column": null,
            "grid_gap": null,
            "grid_row": null,
            "grid_template_areas": null,
            "grid_template_columns": null,
            "grid_template_rows": null,
            "height": null,
            "justify_content": null,
            "justify_items": null,
            "left": null,
            "margin": null,
            "max_height": null,
            "max_width": null,
            "min_height": null,
            "min_width": null,
            "object_fit": null,
            "object_position": null,
            "order": null,
            "overflow": null,
            "overflow_x": null,
            "overflow_y": null,
            "padding": null,
            "right": null,
            "top": null,
            "visibility": null,
            "width": null
          }
        },
        "9dbfb97c2cb241dbb034152af17d506f": {
          "model_module": "@jupyter-widgets/controls",
          "model_name": "DescriptionStyleModel",
          "model_module_version": "1.5.0",
          "state": {
            "_model_module": "@jupyter-widgets/controls",
            "_model_module_version": "1.5.0",
            "_model_name": "DescriptionStyleModel",
            "_view_count": null,
            "_view_module": "@jupyter-widgets/base",
            "_view_module_version": "1.2.0",
            "_view_name": "StyleView",
            "description_width": ""
          }
        }
      }
    }
  },
  "cells": [
    {
      "cell_type": "markdown",
      "metadata": {
        "id": "view-in-github",
        "colab_type": "text"
      },
      "source": [
        "<a href=\"https://colab.research.google.com/github/plaban1981/OpenAI_CLIP/blob/main/image_to_prompt_generator.ipynb\" target=\"_parent\"><img src=\"https://colab.research.google.com/assets/colab-badge.svg\" alt=\"Open In Colab\"/></a>"
      ]
    },
    {
      "cell_type": "code",
      "execution_count": null,
      "metadata": {
        "colab": {
          "base_uri": "https://localhost:8080/"
        },
        "id": "6N2GLGto-WxJ",
        "outputId": "dc85a476-6a48-4b3e-cb79-a3d446c7e156"
      },
      "outputs": [
        {
          "output_type": "stream",
          "name": "stdout",
          "text": [
            "GPU 0: NVIDIA A100-SXM4-40GB (UUID: GPU-2e479ee9-b6ca-f346-c835-653a943caf81)\n"
          ]
        }
      ],
      "source": [
        "!nvidia-smi -L"
      ]
    },
    {
      "cell_type": "code",
      "source": [
        "from google.colab import drive\n",
        "drive.mount(\"/content/drive\")"
      ],
      "metadata": {
        "colab": {
          "base_uri": "https://localhost:8080/"
        },
        "id": "aMYibde3knXm",
        "outputId": "a60e0052-820b-4dea-b5a4-e95113480a72"
      },
      "execution_count": null,
      "outputs": [
        {
          "output_type": "stream",
          "name": "stdout",
          "text": [
            "Mounted at /content/drive\n"
          ]
        }
      ]
    },
    {
      "cell_type": "markdown",
      "source": [
        "https://www.youtube.com/watch?v=2FZ6Tc7Yc_U&list=PLc9_vneTcTGXdjoCD0b_-2x3-HqsvxCZH&index=42\n",
        "\n",
        "https://pharmapsychotic.com/tools.html\n",
        "\n",
        "https://huggingface.co/spaces/pharma/CLIP-Interrogator/blob/main/app.py\n",
        "\n",
        "https://www.youtube.com/watch?v=2EV5SZ1Klro"
      ],
      "metadata": {
        "id": "bzyylD6r-iqu"
      }
    },
    {
      "cell_type": "code",
      "source": [
        "os.mkdir(\"/content/drive/MyDrive/STABLE_DIFFUSION/image_to_prompt/output\")"
      ],
      "metadata": {
        "id": "cNVjvUzBlLAI"
      },
      "execution_count": null,
      "outputs": []
    },
    {
      "cell_type": "code",
      "source": [
        "for files in os.listdir(\"/content/output\"):\n",
        "  shutil.copy(os.path.join(\"/content/output\",files),\"/content/drive/MyDrive/STABLE_DIFFUSION/image_to_prompt/output\")"
      ],
      "metadata": {
        "id": "fhx3xJ8VlQv-"
      },
      "execution_count": null,
      "outputs": []
    },
    {
      "cell_type": "code",
      "source": [
        "import os, subprocess\n",
        "\n",
        "def setup():\n",
        "    install_cmds = [\n",
        "        ['pip', 'install','-q','transformers==4.15.0'],\n",
        "        ['pip', 'install', '-q','gradio'],\n",
        "        ['pip', 'install','-q','open_clip_torch'],\n",
        "        ['pip', 'install', '-q','clip-interrogator'],\n",
        "    ]\n",
        "    for cmd in install_cmds:\n",
        "        print(subprocess.run(cmd, stdout=subprocess.PIPE).stdout.decode('utf-8'))\n",
        "\n",
        "setup()\n"
      ],
      "metadata": {
        "colab": {
          "base_uri": "https://localhost:8080/"
        },
        "id": "ZxyGn5Qv-7UX",
        "outputId": "b399b22f-94f4-44aa-a13f-bf5ae5104915"
      },
      "execution_count": null,
      "outputs": [
        {
          "output_type": "stream",
          "name": "stdout",
          "text": [
            "\n",
            "\n",
            "\n",
            "\n"
          ]
        }
      ]
    },
    {
      "cell_type": "code",
      "source": [
        "!pip install -qU transformers"
      ],
      "metadata": {
        "colab": {
          "base_uri": "https://localhost:8080/"
        },
        "id": "CTDZeSnev6KG",
        "outputId": "7d1a26d1-c10b-42cf-c42a-f74b1b6a8b13"
      },
      "execution_count": null,
      "outputs": [
        {
          "output_type": "stream",
          "name": "stdout",
          "text": [
            "\u001b[2K     \u001b[90m━━━━━━━━━━━━━━━━━━━━━━━━━━━━━━━━━━━━━━━━\u001b[0m \u001b[32m6.7/6.7 MB\u001b[0m \u001b[31m55.4 MB/s\u001b[0m eta \u001b[36m0:00:00\u001b[0m\n",
            "\u001b[2K     \u001b[90m━━━━━━━━━━━━━━━━━━━━━━━━━━━━━━━━━━━━━━━━\u001b[0m \u001b[32m7.6/7.6 MB\u001b[0m \u001b[31m99.5 MB/s\u001b[0m eta \u001b[36m0:00:00\u001b[0m\n",
            "\u001b[?25h"
          ]
        }
      ]
    },
    {
      "cell_type": "code",
      "source": [
        "import transformers\n",
        "transformers.__version__"
      ],
      "metadata": {
        "colab": {
          "base_uri": "https://localhost:8080/",
          "height": 36
        },
        "id": "IP-1-kySwD5k",
        "outputId": "15ed0034-d348-4719-aa54-667d18950cbf"
      },
      "execution_count": null,
      "outputs": [
        {
          "output_type": "execute_result",
          "data": {
            "text/plain": [
              "'4.27.1'"
            ],
            "application/vnd.google.colaboratory.intrinsic+json": {
              "type": "string"
            }
          },
          "metadata": {},
          "execution_count": 13
        }
      ]
    },
    {
      "cell_type": "code",
      "source": [
        "from transformers import AutoProcessor, AutoModelForZeroShotImageClassification\n",
        "processor = AutoProcessor.from_pretrained(\"openai/clip-vit-large-patch14\")\n",
        "model = AutoModelForZeroShotImageClassification.from_pretrained(\"openai/clip-vit-large-patch14\")"
      ],
      "metadata": {
        "colab": {
          "base_uri": "https://localhost:8080/",
          "height": 308,
          "referenced_widgets": [
            "710e9bf8244644338c12f946afe40a6c",
            "60e46ac34f564428aac7d0485cac01d5",
            "f4765a5587b6485eac3a3e8d5f1ad0ac",
            "62687ff949ed4c558c5a8f9ab186605f",
            "50b3143591f743fda2f5e4dfa0c98d5e",
            "518184daaacb43d8b09be1f95f2da121",
            "49b506c3b00942aa9939eae0e36337c5",
            "44fc2bac12a34caeb3602134443be5b9",
            "0f05f37be9eb4f6386df8d77e6b9056e",
            "b49bfa7c8c604db6bddc0b399ca3860a",
            "1451b4ab481548c6a62a7dd5964cd933",
            "25f74954176e424e9ac781ed3b5a75ab",
            "34a40d5725f546c08fbda281dce5ab6e",
            "85c71b541d864e899ac0adbe033d8d53",
            "a36ea599271a484cb2f46adaf44eb84e",
            "381d0d3528354f289b0f0c006b0c2597",
            "863bd6702aef4112bdccdd0d23c9d8ed",
            "b81f60a5dc9c498a9a5df9f147784b89",
            "0d70fa993aad47c280791dbbd0072a8f",
            "b060281c399a4c88b2a2826161bc4492",
            "b020ed5c717944c0a5ce8f086bdf3eee",
            "e8ee868c549745bebf8a0a26420482aa",
            "5b231e7fcbbe4534a249897ae1d72aa0",
            "a339e9697c6a48218e89047ae9ba8844",
            "ff27becafd444cfdba054af1b34dfeeb",
            "5c31a8f7516146e790e1f5b042ad7502",
            "04863db3ea064444852412287f7cae04",
            "291388a1ce1d4fdba0a3d4abe41e7a45",
            "edfc1656cb2a48a5b6acda3ca1c3ddde",
            "99c26d51ccfb4e6ea4abe6fad32297f8",
            "e211191ce7154978af7870721e7c9d64",
            "c0e3051bd9a4427089d758cae67a10cc",
            "9bcf2ee1382d43c8abcd144a75e286a5",
            "06f7ed7691d34f68a637cd21ea60eedc",
            "baeb048d65fb45da8b06202833b8de49",
            "cb21360021e74d8eaf46c1acf786072e",
            "798eda51b130438a8a7d4aa8a858587f",
            "b289a0f68dde472bb20114673f73e296",
            "50cbbd87019a4be6a2a497d8f8e8b56c",
            "887df5d2bb57487ebf7acf195460c020",
            "b5f473638bc045a28c7bbd39e561ae42",
            "01c346b9553f48fda2e961e7dead55c7",
            "d59774f4ecee451292778ab64840773f",
            "fb610596297d4b64958e2c688ec536db",
            "d4a4b56c81464e06ae88a67b4d61d599",
            "7ea71de4b199440c9e4b2a8df3cbba34",
            "4e4eeace95564d7a9b19012d1f176f6d",
            "eb4243cb732840bcab1ddbf995b8afb0",
            "37997161849c4bd381ceb2435e7b7680",
            "4b1a8468bcd44f39899ce03db1856ef6",
            "5277e75525114a7496964a29fb4ad137",
            "634516091ebd4e16a096acb5bff6498f",
            "c135a5bf45344c329b337b882025cef1",
            "b12f25c371be497c856becc73f329d52",
            "ad164784ff5145fe8a4f1689ac3bcf69",
            "290bf66a546d4002921e09712794e9f1",
            "ad2949a219d84f32a8ad5c940792be5c",
            "e2fd043f7f3945f8a092114f6f5975c4",
            "3bdd332b55e3481ea19ce9065a157fe9",
            "3f9d919e4dc040dd92613ed02ed07449",
            "1e1f52496a5540a2b8de179c01e08e37",
            "fda96941fc504c92878b238a8a3c751f",
            "a56b4b73bf5b40f3802e7bd554f3ccfc",
            "f932f5d2ea234ce6b78903011aac38ae",
            "ec3b27812f144cb388bf5bb51438fde3",
            "61cbed09ff0c4efdb19bb489852f341d",
            "5899d081460f4336831edb02118fb338",
            "cdff0e569a1c4bb3a983ae06119ce262",
            "ad5ddc58cdee4d99a27b7c06d8213b49",
            "00c25a64cf1b4bc9935cd30d96736f72",
            "aaee7c03f4564352a6ad7b67592e7f25",
            "b912c99b8efa498299b419f3f50083cd",
            "497354debcfa4610b7b4a00a7f458309",
            "e626d74fef9143758a0491ee6c29a69e",
            "185e3f8064f147b38b49f4a8517f20cc",
            "42b946fb1fed43bc9118be833ee43a7d",
            "42eae4bb81804faf8824524b45f35ac0",
            "cf907e1a7f084f97bf1dea5e59aa0439",
            "b16f9a149a3940d78405c540d10a94db",
            "e34248f8022d4a8c84c6a277b7c8e3ff",
            "12fb56a1ee6b4313846ef96f77491a35",
            "6031544ac7c14b99a294ac76547bad24",
            "b6c47b5746e8460e85d57c6ad9e4dc18",
            "ecff38ad3af3404c83166d70d1abf2f5",
            "f6560ce22cee41679810212a24e5de15",
            "5d9c628ef9ec49e3a67cbbdd017c4b7d",
            "fd2e2f24e201421fb201e6b9188ba91b",
            "d2ddf2ad2be9423496d506da534d3023"
          ]
        },
        "id": "VRoWNFQQqBxc",
        "outputId": "d4447264-aa3f-479e-fe21-4ac131621446"
      },
      "execution_count": null,
      "outputs": [
        {
          "output_type": "display_data",
          "data": {
            "text/plain": [
              "Downloading (…)rocessor_config.json:   0%|          | 0.00/316 [00:00<?, ?B/s]"
            ],
            "application/vnd.jupyter.widget-view+json": {
              "version_major": 2,
              "version_minor": 0,
              "model_id": "710e9bf8244644338c12f946afe40a6c"
            }
          },
          "metadata": {}
        },
        {
          "output_type": "display_data",
          "data": {
            "text/plain": [
              "Downloading (…)okenizer_config.json:   0%|          | 0.00/905 [00:00<?, ?B/s]"
            ],
            "application/vnd.jupyter.widget-view+json": {
              "version_major": 2,
              "version_minor": 0,
              "model_id": "25f74954176e424e9ac781ed3b5a75ab"
            }
          },
          "metadata": {}
        },
        {
          "output_type": "display_data",
          "data": {
            "text/plain": [
              "Downloading (…)lve/main/config.json:   0%|          | 0.00/4.52k [00:00<?, ?B/s]"
            ],
            "application/vnd.jupyter.widget-view+json": {
              "version_major": 2,
              "version_minor": 0,
              "model_id": "5b231e7fcbbe4534a249897ae1d72aa0"
            }
          },
          "metadata": {}
        },
        {
          "output_type": "stream",
          "name": "stderr",
          "text": [
            "`text_config_dict` is provided which will be used to initialize `CLIPTextConfig`. The value `text_config[\"id2label\"]` will be overriden.\n"
          ]
        },
        {
          "output_type": "display_data",
          "data": {
            "text/plain": [
              "Downloading (…)olve/main/vocab.json:   0%|          | 0.00/961k [00:00<?, ?B/s]"
            ],
            "application/vnd.jupyter.widget-view+json": {
              "version_major": 2,
              "version_minor": 0,
              "model_id": "06f7ed7691d34f68a637cd21ea60eedc"
            }
          },
          "metadata": {}
        },
        {
          "output_type": "display_data",
          "data": {
            "text/plain": [
              "Downloading (…)olve/main/merges.txt:   0%|          | 0.00/525k [00:00<?, ?B/s]"
            ],
            "application/vnd.jupyter.widget-view+json": {
              "version_major": 2,
              "version_minor": 0,
              "model_id": "d4a4b56c81464e06ae88a67b4d61d599"
            }
          },
          "metadata": {}
        },
        {
          "output_type": "display_data",
          "data": {
            "text/plain": [
              "Downloading (…)/main/tokenizer.json:   0%|          | 0.00/2.22M [00:00<?, ?B/s]"
            ],
            "application/vnd.jupyter.widget-view+json": {
              "version_major": 2,
              "version_minor": 0,
              "model_id": "290bf66a546d4002921e09712794e9f1"
            }
          },
          "metadata": {}
        },
        {
          "output_type": "display_data",
          "data": {
            "text/plain": [
              "Downloading (…)cial_tokens_map.json:   0%|          | 0.00/389 [00:00<?, ?B/s]"
            ],
            "application/vnd.jupyter.widget-view+json": {
              "version_major": 2,
              "version_minor": 0,
              "model_id": "5899d081460f4336831edb02118fb338"
            }
          },
          "metadata": {}
        },
        {
          "output_type": "stream",
          "name": "stderr",
          "text": [
            "`text_config_dict` is provided which will be used to initialize `CLIPTextConfig`. The value `text_config[\"id2label\"]` will be overriden.\n"
          ]
        },
        {
          "output_type": "display_data",
          "data": {
            "text/plain": [
              "Downloading pytorch_model.bin:   0%|          | 0.00/1.71G [00:00<?, ?B/s]"
            ],
            "application/vnd.jupyter.widget-view+json": {
              "version_major": 2,
              "version_minor": 0,
              "model_id": "cf907e1a7f084f97bf1dea5e59aa0439"
            }
          },
          "metadata": {}
        }
      ]
    },
    {
      "cell_type": "code",
      "source": [
        "model.save_pretrained(\"clip-vit-large-patch14\")"
      ],
      "metadata": {
        "id": "vADbIvUswuLH"
      },
      "execution_count": null,
      "outputs": []
    },
    {
      "cell_type": "markdown",
      "source": [
        "## Trying out new download"
      ],
      "metadata": {
        "id": "GtI1w-_qw-Mb"
      }
    },
    {
      "cell_type": "code",
      "source": [
        "from clip_interrogator import Config, Interrogator\n",
        "MODELS = ['ViT-L (best for Stable Diffusion 1.*)', 'ViT-H (best for Stable Diffusion 2.*)']\n",
        "\n",
        "# load BLIP and ViT-L https://huggingface.co/openai/clip-vit-large-patch14\n",
        "config = Config(clip_model_name=\"ViT-L-14/openai\")\n",
        "ci_vitl = Interrogator(config)\n",
        "ci_vitl.clip_model = ci_vitl.clip_model.to(\"cpu\")\n",
        "\n",
        "# load ViT-H https://huggingface.co/laion/CLIP-ViT-H-14-laion2B-s32B-b79K\n",
        "config.blip_model = ci_vitl.blip_model\n",
        "config.clip_model_name = \"ViT-H-14/laion2b_s32b_b79k\"\n",
        "ci_vith = Interrogator(config)\n",
        "ci_vith.clip_model = ci_vith.clip_model.to(\"cpu\")"
      ],
      "metadata": {
        "colab": {
          "base_uri": "https://localhost:8080/",
          "height": 153,
          "referenced_widgets": [
            "45c0edefe52f4d67a9eec8eeadf9a383",
            "86638d5b2db44c24921471bb27c06b2b",
            "93b9a0205c5e4e26a0397b980fa0a3f3",
            "9ac6824a8b444ccc8a051f904c84d2b6",
            "be6fa528a847499ea9f7116f4727e023",
            "4fea0b8bbb8644b58208f85ccc7e1042",
            "bef3b4ba1cf2408e8c05993cf6bd03bb",
            "1fe77adb3b32408b856e415d1ba47c00",
            "28b54ba2fae24f1799ba2da213df5031",
            "98b154c3796643e6a8ccbab836547c66",
            "9dbfb97c2cb241dbb034152af17d506f"
          ]
        },
        "id": "c5Tuo5YkJvUI",
        "outputId": "b6eb5b53-3005-40c7-b2c8-7c778b522634"
      },
      "execution_count": null,
      "outputs": [
        {
          "output_type": "stream",
          "name": "stdout",
          "text": [
            "Loading BLIP model...\n"
          ]
        },
        {
          "output_type": "display_data",
          "data": {
            "text/plain": [
              "Downloading:   0%|          | 0.00/455k [00:00<?, ?B/s]"
            ],
            "application/vnd.jupyter.widget-view+json": {
              "version_major": 2,
              "version_minor": 0,
              "model_id": "45c0edefe52f4d67a9eec8eeadf9a383"
            }
          },
          "metadata": {}
        },
        {
          "output_type": "stream",
          "name": "stdout",
          "text": [
            "load checkpoint from https://storage.googleapis.com/sfr-vision-language-research/BLIP/models/model_large_caption.pth\n",
            "Loading CLIP model...\n",
            "Loaded CLIP model and data in 8.75 seconds.\n",
            "Loading CLIP model...\n",
            "Loaded CLIP model and data in 13.93 seconds.\n"
          ]
        }
      ]
    },
    {
      "cell_type": "code",
      "source": [
        "import torch\n",
        "device = \"cuda\" if torch.cuda.is_available() else \"cpu\""
      ],
      "metadata": {
        "id": "3QcXRA1-KKyZ"
      },
      "execution_count": null,
      "outputs": []
    },
    {
      "cell_type": "code",
      "source": [
        "def image_to_prompt(image, clip_model_name, mode):\n",
        "    # move selected model to GPU and other model to CPU\n",
        "    if clip_model_name == MODELS[0]:\n",
        "        ci_vith.clip_model = ci_vith.clip_model.to(\"cpu\")\n",
        "        ci_vitl.clip_model = ci_vitl.clip_model.to(ci_vitl.device)\n",
        "        ci = ci_vitl\n",
        "    else:\n",
        "        ci_vitl.clip_model = ci_vitl.clip_model.to(\"cpu\")\n",
        "        ci_vith.clip_model = ci_vith.clip_model.to(ci_vith.device)\n",
        "        ci = ci_vith\n",
        "\n",
        "    ci.config.blip_num_beams = 64\n",
        "    ci.config.chunk_size = 2048\n",
        "    ci.config.flavor_intermediate_count = 2048 if clip_model_name == MODELS[0] else 1024\n",
        "\n",
        "    image = image.convert('RGB')\n",
        "    if mode == 'best':\n",
        "        prompt = ci.interrogate(image)\n",
        "    elif mode == 'classic':\n",
        "        prompt = ci.interrogate_classic(image)\n",
        "    elif mode == 'fast':\n",
        "        prompt = ci.interrogate_fast(image)\n",
        "    elif mode == 'negative':\n",
        "        prompt = ci.interrogate_negative(image)\n",
        "\n",
        "    return prompt\n",
        "\n"
      ],
      "metadata": {
        "id": "lu6X9X_pKChn"
      },
      "execution_count": null,
      "outputs": []
    },
    {
      "cell_type": "markdown",
      "source": [
        "## Test the function"
      ],
      "metadata": {
        "id": "HclPXdgvySqr"
      }
    },
    {
      "cell_type": "code",
      "source": [
        "from PIL import Image\n",
        "image_to_prompt(Image.open(\"/content/robo_owl.jpg\"),MODELS[1],'best')"
      ],
      "metadata": {
        "colab": {
          "base_uri": "https://localhost:8080/",
          "height": 140
        },
        "id": "BvTCG7DYySHm",
        "outputId": "e94dd75d-4575-45e4-f8b9-d28512ad128f"
      },
      "execution_count": null,
      "outputs": [
        {
          "output_type": "stream",
          "name": "stderr",
          "text": [
            "100%|██████████| 55/55 [00:00<00:00, 179.84it/s]\n",
            "Flavor chain:  31%|███▏      | 10/32 [00:07<00:17,  1.26it/s]\n",
            "100%|██████████| 55/55 [00:00<00:00, 183.82it/s]\n",
            "100%|██████████| 6/6 [00:00<00:00, 151.15it/s]\n",
            "100%|██████████| 50/50 [00:00<00:00, 193.66it/s]\n"
          ]
        },
        {
          "output_type": "execute_result",
          "data": {
            "text/plain": [
              "'a close up of a robot owl with glowing eyes, unreal engine character art, from transformers, by Zlatyu Boyadzhiev, cute owl, made up of many bits of metal, unreal engine”, robot face bust, painting by android jones, angry 8 k, unreal engine ”'"
            ],
            "application/vnd.google.colaboratory.intrinsic+json": {
              "type": "string"
            }
          },
          "metadata": {},
          "execution_count": 4
        }
      ]
    },
    {
      "cell_type": "code",
      "source": [
        "prompt_list = []"
      ],
      "metadata": {
        "id": "HF2S_VgUTYFC"
      },
      "execution_count": null,
      "outputs": []
    },
    {
      "cell_type": "code",
      "source": [
        "image_path = \"/content/my_images\"\n",
        "image_list = [os.path.join(image_path,i) for i in os.listdir(image_path)]\n",
        "image_list"
      ],
      "metadata": {
        "colab": {
          "base_uri": "https://localhost:8080/"
        },
        "id": "nEx2O90DUdjI",
        "outputId": "487fcff7-dde3-4e6f-ed7d-a18ca58abaac"
      },
      "execution_count": null,
      "outputs": [
        {
          "output_type": "execute_result",
          "data": {
            "text/plain": [
              "['/content/my_images/maxresdefault.jpg',\n",
              " '/content/my_images/rockland.jpeg',\n",
              " '/content/my_images/55aaa9d7a475c281fcb47e242db7feb9.jpg',\n",
              " '/content/my_images/thetree.png']"
            ]
          },
          "metadata": {},
          "execution_count": 42
        }
      ]
    },
    {
      "cell_type": "markdown",
      "source": [
        "## Steps to browse through the image folder to generate prompts"
      ],
      "metadata": {
        "id": "LnKRyuNoz4Ij"
      }
    },
    {
      "cell_type": "code",
      "source": [
        "from PIL import Image\n",
        "from IPython.display import clear_output, display\n",
        "from tqdm import tqdm\n",
        "prompt_list = []\n",
        "for idx, images in enumerate(tqdm(image_list, desc='Generating prompts')):\n",
        "    if idx > 0 and idx % 100 == 0:\n",
        "        clear_output(wait=True)\n",
        "\n",
        "    prompt = image_to_prompt(Image.open(images), MODELS [1], 'best')\n",
        "    prompt_list.append(prompt)"
      ],
      "metadata": {
        "colab": {
          "base_uri": "https://localhost:8080/"
        },
        "id": "HLqkohKzLWEI",
        "outputId": "84c8ab23-e3c7-4ec2-83c5-da3990cbd20d"
      },
      "execution_count": null,
      "outputs": [
        {
          "output_type": "stream",
          "name": "stderr",
          "text": [
            "Generating prompts:   0%|          | 0/4 [00:00<?, ?it/s]\n",
            "  0%|          | 0/55 [00:00<?, ?it/s]\u001b[A\n",
            " 33%|███▎      | 18/55 [00:00<00:00, 171.77it/s]\u001b[A\n",
            " 65%|██████▌   | 36/55 [00:00<00:00, 174.38it/s]\u001b[A\n",
            "100%|██████████| 55/55 [00:00<00:00, 175.68it/s]\n",
            "\n",
            "Flavor chain:   0%|          | 0/32 [00:00<?, ?it/s]\u001b[A\n",
            "Flavor chain:   3%|▎         | 1/32 [00:00<00:18,  1.71it/s]\u001b[A\n",
            "Flavor chain:   6%|▋         | 2/32 [00:01<00:17,  1.67it/s]\u001b[A\n",
            "Flavor chain:   9%|▉         | 3/32 [00:01<00:17,  1.63it/s]\u001b[A\n",
            "Flavor chain:  12%|█▎        | 4/32 [00:02<00:17,  1.60it/s]\u001b[A\n",
            "Flavor chain:  16%|█▌        | 5/32 [00:03<00:17,  1.58it/s]\u001b[A\n",
            "Flavor chain:  19%|█▉        | 6/32 [00:03<00:16,  1.56it/s]\u001b[A\n",
            "Flavor chain:  22%|██▏       | 7/32 [00:04<00:16,  1.54it/s]\u001b[A\n",
            "Flavor chain:  25%|██▌       | 8/32 [00:05<00:15,  1.51it/s]\u001b[A\n",
            "Flavor chain:  28%|██▊       | 9/32 [00:05<00:15,  1.49it/s]\u001b[A\n",
            "Flavor chain:  31%|███▏      | 10/32 [00:07<00:16,  1.35it/s]\n",
            "\n",
            "  0%|          | 0/55 [00:00<?, ?it/s]\u001b[A\n",
            " 31%|███       | 17/55 [00:00<00:00, 169.65it/s]\u001b[A\n",
            " 64%|██████▎   | 35/55 [00:00<00:00, 175.58it/s]\u001b[A\n",
            "100%|██████████| 55/55 [00:00<00:00, 175.70it/s]\n",
            "\n",
            "100%|██████████| 6/6 [00:00<00:00, 141.77it/s]\n",
            "\n",
            "  0%|          | 0/50 [00:00<?, ?it/s]\u001b[A\n",
            " 38%|███▊      | 19/50 [00:00<00:00, 181.25it/s]\u001b[A\n",
            "100%|██████████| 50/50 [00:00<00:00, 181.22it/s]\n",
            "Generating prompts:  25%|██▌       | 1/4 [00:10<00:31, 10.42s/it]\n",
            "  0%|          | 0/55 [00:00<?, ?it/s]\u001b[A\n",
            " 33%|███▎      | 18/55 [00:00<00:00, 176.22it/s]\u001b[A\n",
            "100%|██████████| 55/55 [00:00<00:00, 181.46it/s]\n",
            "\n",
            "Flavor chain:   0%|          | 0/32 [00:00<?, ?it/s]\u001b[A\n",
            "Flavor chain:   3%|▎         | 1/32 [00:00<00:17,  1.73it/s]\u001b[A\n",
            "Flavor chain:   6%|▋         | 2/32 [00:01<00:17,  1.67it/s]\u001b[A\n",
            "Flavor chain:   9%|▉         | 3/32 [00:01<00:17,  1.62it/s]\u001b[A\n",
            "Flavor chain:  12%|█▎        | 4/32 [00:02<00:17,  1.60it/s]\u001b[A\n",
            "Flavor chain:  16%|█▌        | 5/32 [00:03<00:17,  1.56it/s]\u001b[A\n",
            "Flavor chain:  19%|█▉        | 6/32 [00:03<00:17,  1.52it/s]\u001b[A\n",
            "Flavor chain:  22%|██▏       | 7/32 [00:04<00:16,  1.49it/s]\u001b[A\n",
            "Flavor chain:  25%|██▌       | 8/32 [00:05<00:16,  1.46it/s]\u001b[A\n",
            "Flavor chain:  28%|██▊       | 9/32 [00:05<00:16,  1.43it/s]\u001b[A\n",
            "Flavor chain:  31%|███▏      | 10/32 [00:06<00:15,  1.40it/s]\u001b[A\n",
            "Flavor chain:  34%|███▍      | 11/32 [00:08<00:15,  1.33it/s]\n",
            "\n",
            "  0%|          | 0/55 [00:00<?, ?it/s]\u001b[A\n",
            " 24%|██▎       | 13/55 [00:00<00:00, 44.77it/s]\u001b[A\n",
            " 56%|█████▋    | 31/55 [00:00<00:00, 88.51it/s]\u001b[A\n",
            "100%|██████████| 55/55 [00:00<00:00, 103.48it/s]\n",
            "\n",
            "100%|██████████| 6/6 [00:00<00:00, 135.21it/s]\n",
            "\n",
            "  0%|          | 0/50 [00:00<?, ?it/s]\u001b[A\n",
            " 34%|███▍      | 17/50 [00:00<00:00, 164.77it/s]\u001b[A\n",
            "100%|██████████| 50/50 [00:00<00:00, 172.05it/s]\n",
            "Generating prompts:  50%|█████     | 2/4 [00:21<00:22, 11.02s/it]\n",
            "  0%|          | 0/55 [00:00<?, ?it/s]\u001b[A\n",
            " 31%|███       | 17/55 [00:00<00:00, 163.58it/s]\u001b[A\n",
            " 64%|██████▎   | 35/55 [00:00<00:00, 169.62it/s]\u001b[A\n",
            "100%|██████████| 55/55 [00:00<00:00, 171.64it/s]\n",
            "\n",
            "Flavor chain:   0%|          | 0/32 [00:00<?, ?it/s]\u001b[A\n",
            "Flavor chain:   3%|▎         | 1/32 [00:00<00:17,  1.73it/s]\u001b[A\n",
            "Flavor chain:   6%|▋         | 2/32 [00:01<00:17,  1.69it/s]\u001b[A\n",
            "Flavor chain:   9%|▉         | 3/32 [00:01<00:17,  1.65it/s]\u001b[A\n",
            "Flavor chain:  12%|█▎        | 4/32 [00:02<00:17,  1.62it/s]\u001b[A\n",
            "Flavor chain:  16%|█▌        | 5/32 [00:03<00:16,  1.61it/s]\u001b[A\n",
            "Flavor chain:  19%|█▉        | 6/32 [00:03<00:16,  1.58it/s]\u001b[A\n",
            "Flavor chain:  22%|██▏       | 7/32 [00:04<00:16,  1.55it/s]\u001b[A\n",
            "Flavor chain:  25%|██▌       | 8/32 [00:05<00:15,  1.53it/s]\u001b[A\n",
            "Flavor chain:  28%|██▊       | 9/32 [00:05<00:15,  1.50it/s]\u001b[A\n",
            "Flavor chain:  31%|███▏      | 10/32 [00:06<00:14,  1.48it/s]\u001b[A\n",
            "Flavor chain:  34%|███▍      | 11/32 [00:07<00:14,  1.45it/s]\u001b[A\n",
            "Flavor chain:  38%|███▊      | 12/32 [00:07<00:14,  1.42it/s]\u001b[A\n",
            "Flavor chain:  41%|████      | 13/32 [00:08<00:13,  1.39it/s]\u001b[A\n",
            "Flavor chain:  44%|████▍     | 14/32 [00:10<00:13,  1.37it/s]\n",
            "\n",
            "  0%|          | 0/55 [00:00<?, ?it/s]\u001b[A\n",
            " 31%|███       | 17/55 [00:00<00:00, 167.34it/s]\u001b[A\n",
            " 64%|██████▎   | 35/55 [00:00<00:00, 171.48it/s]\u001b[A\n",
            "100%|██████████| 55/55 [00:00<00:00, 172.86it/s]\n",
            "\n",
            "100%|██████████| 6/6 [00:00<00:00, 139.16it/s]\n",
            "\n",
            "  0%|          | 0/50 [00:00<?, ?it/s]\u001b[A\n",
            " 38%|███▊      | 19/50 [00:00<00:00, 181.54it/s]\u001b[A\n",
            "100%|██████████| 50/50 [00:00<00:00, 181.02it/s]\n",
            "Generating prompts:  75%|███████▌  | 3/4 [00:35<00:12, 12.02s/it]\n",
            "  0%|          | 0/55 [00:00<?, ?it/s]\u001b[A\n",
            " 31%|███       | 17/55 [00:00<00:00, 169.47it/s]\u001b[A\n",
            " 64%|██████▎   | 35/55 [00:00<00:00, 174.36it/s]\u001b[A\n",
            "100%|██████████| 55/55 [00:00<00:00, 173.59it/s]\n",
            "\n",
            "Flavor chain:   0%|          | 0/32 [00:00<?, ?it/s]\u001b[A\n",
            "Flavor chain:   3%|▎         | 1/32 [00:00<00:18,  1.68it/s]\u001b[A\n",
            "Flavor chain:   6%|▋         | 2/32 [00:01<00:18,  1.66it/s]\u001b[A\n",
            "Flavor chain:   9%|▉         | 3/32 [00:01<00:17,  1.64it/s]\u001b[A\n",
            "Flavor chain:  12%|█▎        | 4/32 [00:02<00:17,  1.61it/s]\u001b[A\n",
            "Flavor chain:  16%|█▌        | 5/32 [00:03<00:17,  1.59it/s]\u001b[A\n",
            "Flavor chain:  19%|█▉        | 6/32 [00:03<00:16,  1.56it/s]\u001b[A\n",
            "Flavor chain:  22%|██▏       | 7/32 [00:04<00:16,  1.53it/s]\u001b[A\n",
            "Flavor chain:  25%|██▌       | 8/32 [00:05<00:15,  1.51it/s]\u001b[A\n",
            "Flavor chain:  28%|██▊       | 9/32 [00:05<00:15,  1.49it/s]\u001b[A\n",
            "Flavor chain:  31%|███▏      | 10/32 [00:06<00:15,  1.46it/s]\u001b[A\n",
            "Flavor chain:  34%|███▍      | 11/32 [00:07<00:14,  1.44it/s]\u001b[A\n",
            "Flavor chain:  38%|███▊      | 12/32 [00:08<00:14,  1.41it/s]\u001b[A\n",
            "Flavor chain:  41%|████      | 13/32 [00:08<00:13,  1.40it/s]\u001b[A\n",
            "Flavor chain:  44%|████▍     | 14/32 [00:09<00:13,  1.37it/s]\u001b[A\n",
            "Flavor chain:  47%|████▋     | 15/32 [00:11<00:12,  1.36it/s]\n",
            "\n",
            "  0%|          | 0/55 [00:00<?, ?it/s]\u001b[A\n",
            " 31%|███       | 17/55 [00:00<00:00, 169.04it/s]\u001b[A\n",
            " 64%|██████▎   | 35/55 [00:00<00:00, 175.15it/s]\u001b[A\n",
            "100%|██████████| 55/55 [00:00<00:00, 174.93it/s]\n",
            "\n",
            "100%|██████████| 6/6 [00:00<00:00, 142.33it/s]\n",
            "\n",
            "  0%|          | 0/50 [00:00<?, ?it/s]\u001b[A\n",
            " 38%|███▊      | 19/50 [00:00<00:00, 181.48it/s]\u001b[A\n",
            "100%|██████████| 50/50 [00:00<00:00, 181.37it/s]\n",
            "Generating prompts: 100%|██████████| 4/4 [00:49<00:00, 12.40s/it]\n"
          ]
        }
      ]
    },
    {
      "cell_type": "code",
      "source": [
        "prompt_list"
      ],
      "metadata": {
        "colab": {
          "base_uri": "https://localhost:8080/"
        },
        "id": "seHGLfYAYeqq",
        "outputId": "09421b26-866d-4b72-a537-cf0f1c029149"
      },
      "execution_count": null,
      "outputs": [
        {
          "output_type": "execute_result",
          "data": {
            "text/plain": [
              "['a man standing on top of a snow covered mountain, andreas rocha and john howe, world seen only through a portal, teaser, gigantic mountains, from of thrones, speedpaint, himalayas, 2029, jaw dropping, loadscreen”',\n",
              " 'a group of people standing on top of a mountain, d&d trending on artstation, the middle of a valley, mobile wallpaper, cgsociety uhd 4k highly detailed, whiterun in the style of pixar, lonely landscape, square enix cinematic art, in a vast serene landscape, nordic landscape, medieval french landscape, hq 4k phone wallpaper',\n",
              " 'a man riding a horse through a lush green valley, feng zhu concept art, giant medieval tower concept art, mobile wallpaper, lovely valley, inspired by Stephan Martiniere, zenithal view, <mmorpgs scene, beautiful scenic view, anime beautiful peace scene, vertical wallpaper, beautiful render of a fairytale, sunny landscape, large mountains in back, beautiful rendering',\n",
              " 'a castle sitting on top of a mountain next to a body of water, by Kim Keever, winter scene fantasy, greek fantasy panorama, stormy snowy fiji mountain, trees and cliffs, by Dan Scott, version 3, beautiful godrays, jagged metal landscape, himalayas, photomanipulation, hildebrandt, 4 0 9 6, misty mood, 3 0']"
            ]
          },
          "metadata": {},
          "execution_count": 48
        }
      ]
    },
    {
      "cell_type": "markdown",
      "source": [
        "#### Save the prompts to prompts.csv file"
      ],
      "metadata": {
        "id": "0i2rXxMzUE-X"
      }
    },
    {
      "cell_type": "code",
      "source": [
        "import csv\n",
        "from IPython.display import clear_output, display\n",
        "folder_path = \"/content/output\"\n",
        "csv_path = os.path.join(folder_path, 'desc.csv')\n",
        "def generate_prompt_csv(csv_path,image_list,prompt_list):\n",
        "  with open(csv_path, 'w', encoding='utf-8', newline='') as f:\n",
        "    w = csv.writer(f, quoting=csv.QUOTE_MINIMAL)\n",
        "    w.writerow(['image', 'prompt'])\n",
        "    for image_path, prompt in zip(image_list,prompt_list):\n",
        "      if len(prompt):\n",
        "        w.writerow([image_path, prompt])\n",
        "\n",
        "        image = Image.open(image_path)\n",
        "        thumb = image.copy()\n",
        "        thumb.thumbnail([256, 256])\n",
        "        display(thumb)\n",
        "        print(prompt)\n",
        "        print(f\"\\n\\n\\n\\nGenerated {len(prompt)} prompts and saved to {csv_path}, enjoy!\")\n",
        "      else:\n",
        "        print(f\"\\n\\n\\n\\nGenerated {len(prompt)} prompts \")\n",
        "    print(f\"Prompt saved at {csv_path}\")"
      ],
      "metadata": {
        "id": "6exEsJg4UKY8"
      },
      "execution_count": null,
      "outputs": []
    },
    {
      "cell_type": "markdown",
      "source": [
        "## Generate csv file"
      ],
      "metadata": {
        "id": "aEbeQJMgbZy8"
      }
    },
    {
      "cell_type": "code",
      "source": [
        "generate_prompt_csv(csv_path,image_list,prompt_list)"
      ],
      "metadata": {
        "colab": {
          "base_uri": "https://localhost:8080/",
          "height": 1000
        },
        "id": "a89V5c_Ebbwo",
        "outputId": "276c7b0e-9cda-4243-93a9-b1fb959b3719"
      },
      "execution_count": null,
      "outputs": [
        {
          "output_type": "display_data",
          "data": {
            "text/plain": [
              "<PIL.Image.Image image mode=RGB size=256x144 at 0x7F205BADAA90>"
            ],
            "image/png": "[encoded data removed]"
          },
          "metadata": {}
        },
        {
          "output_type": "stream",
          "name": "stdout",
          "text": [
            "a man standing on top of a snow covered mountain, andreas rocha and john howe, world seen only through a portal, teaser, gigantic mountains, from of thrones, speedpaint, himalayas, 2029, jaw dropping, loadscreen”\n",
            "\n",
            "\n",
            "\n",
            "\n",
            "Generated 212 prompts and saved to /content/output/desc.csv, enjoy!\n"
          ]
        },
        {
          "output_type": "display_data",
          "data": {
            "text/plain": [
              "<PIL.Image.Image image mode=RGB size=256x158 at 0x7F205BADAA60>"
            ],
            "image/png": "[encoded data removed]"
          },
          "metadata": {}
        },
        {
          "output_type": "stream",
          "name": "stdout",
          "text": [
            "a group of people standing on top of a mountain, d&d trending on artstation, the middle of a valley, mobile wallpaper, cgsociety uhd 4k highly detailed, whiterun in the style of pixar, lonely landscape, square enix cinematic art, in a vast serene landscape, nordic landscape, medieval french landscape, hq 4k phone wallpaper\n",
            "\n",
            "\n",
            "\n",
            "\n",
            "Generated 324 prompts and saved to /content/output/desc.csv, enjoy!\n"
          ]
        },
        {
          "output_type": "display_data",
          "data": {
            "text/plain": [
              "<PIL.Image.Image image mode=RGB size=256x135 at 0x7F205BADA910>"
            ],
            "image/png": "[encoded data removed]"
          },
          "metadata": {}
        },
        {
          "output_type": "stream",
          "name": "stdout",
          "text": [
            "a man riding a horse through a lush green valley, feng zhu concept art, giant medieval tower concept art, mobile wallpaper, lovely valley, inspired by Stephan Martiniere, zenithal view, <mmorpgs scene, beautiful scenic view, anime beautiful peace scene, vertical wallpaper, beautiful render of a fairytale, sunny landscape, large mountains in back, beautiful rendering\n",
            "\n",
            "\n",
            "\n",
            "\n",
            "Generated 368 prompts and saved to /content/output/desc.csv, enjoy!\n"
          ]
        },
        {
          "output_type": "display_data",
          "data": {
            "text/plain": [
              "<PIL.Image.Image image mode=RGB size=256x158 at 0x7F205BADAA60>"
            ],
            "image/png": "[encoded data removed]"
          },
          "metadata": {}
        },
        {
          "output_type": "stream",
          "name": "stdout",
          "text": [
            "a castle sitting on top of a mountain next to a body of water, by Kim Keever, winter scene fantasy, greek fantasy panorama, stormy snowy fiji mountain, trees and cliffs, by Dan Scott, version 3, beautiful godrays, jagged metal landscape, himalayas, photomanipulation, hildebrandt, 4 0 9 6, misty mood, 3 0\n",
            "\n",
            "\n",
            "\n",
            "\n",
            "Generated 305 prompts and saved to /content/output/desc.csv, enjoy!\n",
            "Prompt saved at /content/output/desc.csv\n"
          ]
        }
      ]
    },
    {
      "cell_type": "markdown",
      "source": [
        "## Analyze image"
      ],
      "metadata": {
        "id": "oyfZt2iYb5Vy"
      }
    },
    {
      "cell_type": "code",
      "source": [
        "def image_analysis(image, clip_model_name):\n",
        "    # move selected model to GPU and other model to CPU\n",
        "    if clip_model_name == MODELS[0]:\n",
        "        ci_vith.clip_model = ci_vith.clip_model.to(\"cpu\")\n",
        "        ci_vitl.clip_model = ci_vitl.clip_model.to(ci_vitl.device)\n",
        "        ci = ci_vitl\n",
        "    else:\n",
        "        ci_vitl.clip_model = ci_vitl.clip_model.to(\"cpu\")\n",
        "        ci_vith.clip_model = ci_vith.clip_model.to(ci_vith.device)\n",
        "        ci = ci_vith\n",
        "\n",
        "    image = image.convert('RGB')\n",
        "    image_features = ci.image_to_features(image)\n",
        "\n",
        "    top_mediums = ci.mediums.rank(image_features, 5)\n",
        "    top_artists = ci.artists.rank(image_features, 5)\n",
        "    top_movements = ci.movements.rank(image_features, 5)\n",
        "    top_trendings = ci.trendings.rank(image_features, 5)\n",
        "    top_flavors = ci.flavors.rank(image_features, 5)\n",
        "\n",
        "    medium_ranks = {medium: sim for medium, sim in zip(top_mediums, ci.similarities(image_features, top_mediums))}\n",
        "    artist_ranks = {artist: sim for artist, sim in zip(top_artists, ci.similarities(image_features, top_artists))}\n",
        "    movement_ranks = {movement: sim for movement, sim in zip(top_movements, ci.similarities(image_features, top_movements))}\n",
        "    trending_ranks = {trending: sim for trending, sim in zip(top_trendings, ci.similarities(image_features, top_trendings))}\n",
        "    flavor_ranks = {flavor: sim for flavor, sim in zip(top_flavors, ci.similarities(image_features, top_flavors))}\n",
        "    \n",
        "    return medium_ranks, artist_ranks, movement_ranks, trending_ranks, flavor_ranks"
      ],
      "metadata": {
        "id": "OrqpYZh8b8U8"
      },
      "execution_count": null,
      "outputs": []
    },
    {
      "cell_type": "code",
      "source": [
        "image_list"
      ],
      "metadata": {
        "colab": {
          "base_uri": "https://localhost:8080/"
        },
        "id": "viAU6ZN_fh-y",
        "outputId": "a685bfe0-5d1a-4b2a-9cb9-a628d9cb8a70"
      },
      "execution_count": null,
      "outputs": [
        {
          "output_type": "execute_result",
          "data": {
            "text/plain": [
              "['/content/my_images/maxresdefault.jpg',\n",
              " '/content/my_images/rockland.jpeg',\n",
              " '/content/my_images/55aaa9d7a475c281fcb47e242db7feb9.jpg',\n",
              " '/content/my_images/thetree.png']"
            ]
          },
          "metadata": {},
          "execution_count": 57
        }
      ]
    },
    {
      "cell_type": "code",
      "source": [
        "medium_list = []\n",
        "artist_list = []\n",
        "movement_list = []\n",
        "trending_list = []\n",
        "flavour_list = []\n",
        "image_dict = {}\n",
        "for idx, images in enumerate(tqdm(image_list, desc='Analyzing images')):\n",
        "   print(images)\n",
        "   medium_ranks, artist_ranks, movement_ranks, trending_ranks, flavor_ranks = image_analysis(Image.open(images), MODELS[1])\n",
        "       \n",
        "   image_dict[images] = {\"medium\":medium_ranks,\n",
        "                                \"artist\":artist_ranks,\n",
        "                                \"trending\":trending_ranks,\n",
        "                                \"flavor\":flavor_ranks}"
      ],
      "metadata": {
        "colab": {
          "base_uri": "https://localhost:8080/"
        },
        "id": "nKYgGJRecA1D",
        "outputId": "cdd811c2-2408-4b07-a8aa-a58eebcacf67"
      },
      "execution_count": null,
      "outputs": [
        {
          "output_type": "stream",
          "name": "stderr",
          "text": [
            "\rAnalyzing images:   0%|          | 0/4 [00:00<?, ?it/s]"
          ]
        },
        {
          "output_type": "stream",
          "name": "stdout",
          "text": [
            "/content/my_images/maxresdefault.jpg\n"
          ]
        },
        {
          "output_type": "stream",
          "name": "stderr",
          "text": [
            "\n",
            "100%|██████████| 6/6 [00:00<00:00, 125.03it/s]\n",
            "\n",
            "  0%|          | 0/50 [00:00<?, ?it/s]\u001b[A\n",
            " 40%|████      | 20/50 [00:00<00:00, 192.41it/s]\u001b[A\n",
            "100%|██████████| 50/50 [00:00<00:00, 189.84it/s]\n",
            "Analyzing images:  25%|██▌       | 1/4 [00:00<00:01,  1.96it/s]"
          ]
        },
        {
          "output_type": "stream",
          "name": "stdout",
          "text": [
            "/content/my_images/rockland.jpeg\n"
          ]
        },
        {
          "output_type": "stream",
          "name": "stderr",
          "text": [
            "\n",
            "100%|██████████| 6/6 [00:00<00:00, 143.51it/s]\n",
            "\n",
            "  0%|          | 0/50 [00:00<?, ?it/s]\u001b[A\n",
            " 40%|████      | 20/50 [00:00<00:00, 190.76it/s]\u001b[A\n",
            "100%|██████████| 50/50 [00:00<00:00, 184.87it/s]\n",
            "Analyzing images:  50%|█████     | 2/4 [00:01<00:01,  1.98it/s]"
          ]
        },
        {
          "output_type": "stream",
          "name": "stdout",
          "text": [
            "/content/my_images/55aaa9d7a475c281fcb47e242db7feb9.jpg\n"
          ]
        },
        {
          "output_type": "stream",
          "name": "stderr",
          "text": [
            "\n",
            "100%|██████████| 6/6 [00:00<00:00, 134.38it/s]\n",
            "\n",
            "  0%|          | 0/50 [00:00<?, ?it/s]\u001b[A\n",
            "  8%|▊         | 4/50 [00:00<00:02, 18.35it/s]\u001b[A\n",
            " 46%|████▌     | 23/50 [00:00<00:00, 84.69it/s]\u001b[A\n",
            "100%|██████████| 50/50 [00:00<00:00, 106.01it/s]\n",
            "Analyzing images:  75%|███████▌  | 3/4 [00:01<00:00,  1.64it/s]"
          ]
        },
        {
          "output_type": "stream",
          "name": "stdout",
          "text": [
            "/content/my_images/thetree.png\n"
          ]
        },
        {
          "output_type": "stream",
          "name": "stderr",
          "text": [
            "\n",
            "100%|██████████| 6/6 [00:00<00:00, 142.15it/s]\n",
            "\n",
            "  0%|          | 0/50 [00:00<?, ?it/s]\u001b[A\n",
            " 40%|████      | 20/50 [00:00<00:00, 192.36it/s]\u001b[A\n",
            "100%|██████████| 50/50 [00:00<00:00, 179.39it/s]\n",
            "Analyzing images: 100%|██████████| 4/4 [00:02<00:00,  1.77it/s]\n"
          ]
        }
      ]
    },
    {
      "cell_type": "code",
      "source": [
        "image_dict"
      ],
      "metadata": {
        "colab": {
          "base_uri": "https://localhost:8080/"
        },
        "id": "culDJvlUfMPX",
        "outputId": "da071377-f681-4eb7-c1c8-4380a442f29f"
      },
      "execution_count": null,
      "outputs": [
        {
          "output_type": "execute_result",
          "data": {
            "text/plain": [
              "{'/content/my_images/maxresdefault.jpg': {'medium': {'a matte painting': 0.289794921875,\n",
              "   'concept art': 0.281005859375,\n",
              "   'a detailed matte painting': 0.275390625,\n",
              "   'a digital painting': 0.2490234375,\n",
              "   'digital art': 0.2314453125},\n",
              "  'artist': {'inspired by John Howe': 0.30224609375,\n",
              "   'inspired by Andreas Rocha': 0.294189453125,\n",
              "   'inspired by Noah Bradley': 0.29345703125,\n",
              "   'by Izidor Kršnjavi': 0.2841796875,\n",
              "   'by Anton Räderscheidt': 0.28173828125},\n",
              "  'trending': {'deviantart': 0.2406005859375,\n",
              "   'Artstation': 0.239501953125,\n",
              "   'Artstation contest winner': 0.2381591796875,\n",
              "   'trending on deviantart': 0.232177734375,\n",
              "   'deviantart contest winner': 0.224853515625},\n",
              "  'flavor': {'icy mountains': 0.334228515625,\n",
              "   'dota! matte painting concept art': 0.322021484375,\n",
              "   'dota matte painting concept art': 0.3212890625,\n",
              "   \"theme :'icewind dale '\": 0.31884765625,\n",
              "   'lord of the rings concept art': 0.315185546875}},\n",
              " '/content/my_images/rockland.jpeg': {'medium': {'a matte painting': 0.315185546875,\n",
              "   'a detailed matte painting': 0.31201171875,\n",
              "   'concept art': 0.2841796875,\n",
              "   'a digital painting': 0.23388671875,\n",
              "   'a digital rendering': 0.2322998046875},\n",
              "  'artist': {'by Raphael Lacoste': 0.3369140625,\n",
              "   'inspired by Raphael Lacoste': 0.3330078125,\n",
              "   'inspired by Noah Bradley': 0.327880859375,\n",
              "   'by Aleksander Gine': 0.32666015625,\n",
              "   'by Johannes Voss': 0.323486328125},\n",
              "  'trending': {'Artstation contest winner': 0.29248046875,\n",
              "   'cgsociety contest winner': 0.28564453125,\n",
              "   'trending on Artstation': 0.2744140625,\n",
              "   'Artstation': 0.273193359375,\n",
              "   'trending on cgsociety': 0.271728515625},\n",
              "  'flavor': {'an epic landscape': 0.362060546875,\n",
              "   'most epic landscape': 0.353515625,\n",
              "   'concept art. epic landscape': 0.35302734375,\n",
              "   'silvain sarrailh': 0.3505859375,\n",
              "   'middle earth landscape': 0.345947265625}},\n",
              " '/content/my_images/55aaa9d7a475c281fcb47e242db7feb9.jpg': {'medium': {'a matte painting': 0.30908203125,\n",
              "   'a detailed matte painting': 0.298095703125,\n",
              "   'concept art': 0.2880859375,\n",
              "   'a digital rendering': 0.23193359375,\n",
              "   'a digital painting': 0.226318359375},\n",
              "  'artist': {'by Zhou Chen': 0.321044921875,\n",
              "   'by Aleksander Gine': 0.316162109375,\n",
              "   'by Yang J': 0.313232421875,\n",
              "   'by Raymond Han': 0.312255859375,\n",
              "   'by Ruan Jia': 0.30908203125},\n",
              "  'trending': {'Artstation contest winner': 0.2744140625,\n",
              "   'cgsociety contest winner': 0.25537109375,\n",
              "   'deviantart contest winner': 0.25341796875,\n",
              "   'Artstation': 0.25,\n",
              "   'cg society contest winner': 0.2490234375},\n",
              "  'flavor': {'impressive fantasy landscape': 0.36962890625,\n",
              "   'fantasy art landscape': 0.3623046875,\n",
              "   'high fantasy landscape': 0.359130859375,\n",
              "   'concept art. epic landscape': 0.357666015625,\n",
              "   'dota matte painting concept art': 0.35595703125}},\n",
              " '/content/my_images/thetree.png': {'medium': {'a matte painting': 0.337646484375,\n",
              "   'a detailed matte painting': 0.334716796875,\n",
              "   'concept art': 0.25927734375,\n",
              "   'a digital rendering': 0.2454833984375,\n",
              "   'a digital painting': 0.2451171875},\n",
              "  'artist': {'inspired by Johfra Bosschart': 0.33056640625,\n",
              "   'inspired by Franz Sedlacek': 0.329833984375,\n",
              "   'inspired by Kim Keever': 0.314697265625,\n",
              "   'inspired by Raphael Lacoste': 0.31298828125,\n",
              "   'inspired by Patrick Nasmyth': 0.3115234375},\n",
              "  'trending': {'zbrush central contest winner': 0.2447509765625,\n",
              "   'cgsociety contest winner': 0.2431640625,\n",
              "   'cg society contest winner': 0.2415771484375,\n",
              "   'deviantart': 0.235107421875,\n",
              "   'deviantart contest winner': 0.228515625},\n",
              "  'flavor': {'dramatic matte painting': 0.35302734375,\n",
              "   'fantasy matte painting': 0.35107421875,\n",
              "   'digital matte painting': 0.349609375,\n",
              "   '3d rendered matte painting': 0.34814453125,\n",
              "   'high fantasy matte painting': 0.34814453125}}}"
            ]
          },
          "metadata": {},
          "execution_count": 59
        }
      ]
    },
    {
      "cell_type": "code",
      "source": [
        "import pandas as pd\n",
        "analyze = pd.DataFrame(image_dict).T.reset_index().rename(columns={'index':'Image_path'})"
      ],
      "metadata": {
        "id": "ak7_ySFJgbCj"
      },
      "execution_count": null,
      "outputs": []
    },
    {
      "cell_type": "code",
      "source": [
        "analyze.to_csv('/content/output/analyze.csv')"
      ],
      "metadata": {
        "id": "ikukVnLmjo0L"
      },
      "execution_count": null,
      "outputs": []
    },
    {
      "cell_type": "markdown",
      "source": [
        "## Download images"
      ],
      "metadata": {
        "id": "heOdVJHab2q7"
      }
    },
    {
      "cell_type": "code",
      "source": [
        "!wget \"https://i.ytimg.com/vi/z3lsZcV76KE/maxresdefault.jpg\""
      ],
      "metadata": {
        "colab": {
          "base_uri": "https://localhost:8080/"
        },
        "id": "VFfVC8DCAaMl",
        "outputId": "40a182b0-5c3d-46c9-f713-a1adbd4b0793"
      },
      "execution_count": null,
      "outputs": [
        {
          "output_type": "stream",
          "name": "stdout",
          "text": [
            "--2023-03-19 04:42:16--  https://i.ytimg.com/vi/z3lsZcV76KE/maxresdefault.jpg\n",
            "Resolving i.ytimg.com (i.ytimg.com)... 64.233.183.119, 173.194.193.119, 173.194.194.119, ...\n",
            "Connecting to i.ytimg.com (i.ytimg.com)|64.233.183.119|:443... connected.\n",
            "HTTP request sent, awaiting response... 200 OK\n",
            "Length: 81044 (79K) [image/jpeg]\n",
            "Saving to: ‘maxresdefault.jpg’\n",
            "\n",
            "\rmaxresdefault.jpg     0%[                    ]       0  --.-KB/s               \rmaxresdefault.jpg   100%[===================>]  79.14K  --.-KB/s    in 0.001s  \n",
            "\n",
            "2023-03-19 04:42:16 (98.8 MB/s) - ‘maxresdefault.jpg’ saved [81044/81044]\n",
            "\n"
          ]
        }
      ]
    },
    {
      "cell_type": "code",
      "source": [
        "!wget \"https://tomco.neocities.org/thetree.png\""
      ],
      "metadata": {
        "colab": {
          "base_uri": "https://localhost:8080/"
        },
        "id": "5POj9v3PS02I",
        "outputId": "61607438-7ace-498f-c9b6-62572a1f295c"
      },
      "execution_count": null,
      "outputs": [
        {
          "output_type": "stream",
          "name": "stdout",
          "text": [
            "--2023-03-19 05:15:42--  https://tomco.neocities.org/thetree.png\n",
            "Resolving tomco.neocities.org (tomco.neocities.org)... 198.51.233.2, 2620:2:6000::a:1\n",
            "Connecting to tomco.neocities.org (tomco.neocities.org)|198.51.233.2|:443... connected.\n",
            "HTTP request sent, awaiting response... 200 OK\n",
            "Length: 131618 (129K) [image/png]\n",
            "Saving to: ‘thetree.png’\n",
            "\n",
            "thetree.png         100%[===================>] 128.53K  --.-KB/s    in 0.09s   \n",
            "\n",
            "2023-03-19 05:15:42 (1.40 MB/s) - ‘thetree.png’ saved [131618/131618]\n",
            "\n"
          ]
        }
      ]
    },
    {
      "cell_type": "code",
      "source": [
        "!wget \"https://tomco.neocities.org/rockland.jpeg\""
      ],
      "metadata": {
        "colab": {
          "base_uri": "https://localhost:8080/"
        },
        "id": "eh9yVgH-TEia",
        "outputId": "1cecdd23-b2ac-4a03-e73d-b1e2da416762"
      },
      "execution_count": null,
      "outputs": [
        {
          "output_type": "stream",
          "name": "stdout",
          "text": [
            "--2023-03-19 05:16:45--  https://tomco.neocities.org/rockland.jpeg\n",
            "Resolving tomco.neocities.org (tomco.neocities.org)... 198.51.233.2, 2620:2:6000::a:1\n",
            "Connecting to tomco.neocities.org (tomco.neocities.org)|198.51.233.2|:443... connected.\n",
            "HTTP request sent, awaiting response... 200 OK\n",
            "Length: 85722 (84K) [image/jpeg]\n",
            "Saving to: ‘rockland.jpeg’\n",
            "\n",
            "\rrockland.jpeg         0%[                    ]       0  --.-KB/s               \rrockland.jpeg       100%[===================>]  83.71K  --.-KB/s    in 0.04s   \n",
            "\n",
            "2023-03-19 05:16:45 (1.86 MB/s) - ‘rockland.jpeg’ saved [85722/85722]\n",
            "\n"
          ]
        }
      ]
    },
    {
      "cell_type": "code",
      "source": [
        "! wget \"https://i.pinimg.com/originals/55/aa/a9/55aaa9d7a475c281fcb47e242db7feb9.jpg\""
      ],
      "metadata": {
        "colab": {
          "base_uri": "https://localhost:8080/"
        },
        "id": "w0JiP4pnYA0n",
        "outputId": "beab31e4-9e4e-409d-b082-106769d2badc"
      },
      "execution_count": null,
      "outputs": [
        {
          "output_type": "stream",
          "name": "stdout",
          "text": [
            "--2023-03-19 05:38:18--  https://i.pinimg.com/originals/55/aa/a9/55aaa9d7a475c281fcb47e242db7feb9.jpg\n",
            "Resolving i.pinimg.com (i.pinimg.com)... 23.220.144.143, 23.220.144.133, 2a04:4e42:84::84\n",
            "Connecting to i.pinimg.com (i.pinimg.com)|23.220.144.143|:443... connected.\n",
            "HTTP request sent, awaiting response... 200 OK\n",
            "Length: 206978 (202K) [image/jpeg]\n",
            "Saving to: ‘55aaa9d7a475c281fcb47e242db7feb9.jpg’\n",
            "\n",
            "55aaa9d7a475c281fcb 100%[===================>] 202.13K  --.-KB/s    in 0.04s   \n",
            "\n",
            "2023-03-19 05:38:19 (5.40 MB/s) - ‘55aaa9d7a475c281fcb47e242db7feb9.jpg’ saved [206978/206978]\n",
            "\n"
          ]
        }
      ]
    },
    {
      "cell_type": "code",
      "source": [
        "!wget \"https://pharmapsychotic.com/images/robo_owl.jpg\""
      ],
      "metadata": {
        "colab": {
          "base_uri": "https://localhost:8080/"
        },
        "id": "gRgb5jv2yJsk",
        "outputId": "5b287a0c-ae44-4f4a-c3ce-7e41c35f3439"
      },
      "execution_count": null,
      "outputs": [
        {
          "output_type": "stream",
          "name": "stdout",
          "text": [
            "--2023-03-19 07:32:30--  https://pharmapsychotic.com/images/robo_owl.jpg\n",
            "Resolving pharmapsychotic.com (pharmapsychotic.com)... 69.163.152.182\n",
            "Connecting to pharmapsychotic.com (pharmapsychotic.com)|69.163.152.182|:443... connected.\n",
            "HTTP request sent, awaiting response... 200 OK\n",
            "Length: 137100 (134K) [image/jpeg]\n",
            "Saving to: ‘robo_owl.jpg’\n",
            "\n",
            "robo_owl.jpg        100%[===================>] 133.89K  --.-KB/s    in 0.1s    \n",
            "\n",
            "2023-03-19 07:32:30 (983 KB/s) - ‘robo_owl.jpg’ saved [137100/137100]\n",
            "\n"
          ]
        }
      ]
    },
    {
      "cell_type": "code",
      "source": [
        "os.mkdir('my_images')"
      ],
      "metadata": {
        "id": "-Kf8Z_ge1Pfy"
      },
      "execution_count": null,
      "outputs": []
    },
    {
      "cell_type": "code",
      "source": [
        "import os\n",
        "import shutil \n",
        "shutil.copy(\"/content/55aaa9d7a475c281fcb47e242db7feb9.jpg\",\"/content/my_images\")"
      ],
      "metadata": {
        "colab": {
          "base_uri": "https://localhost:8080/",
          "height": 36
        },
        "id": "VpGSJpd4AtH7",
        "outputId": "7c97c4d8-4841-4b1e-f191-12818aab9c91"
      },
      "execution_count": null,
      "outputs": [
        {
          "output_type": "execute_result",
          "data": {
            "text/plain": [
              "'/content/my_images/55aaa9d7a475c281fcb47e242db7feb9.jpg'"
            ],
            "application/vnd.google.colaboratory.intrinsic+json": {
              "type": "string"
            }
          },
          "metadata": {},
          "execution_count": 36
        }
      ]
    },
    {
      "cell_type": "code",
      "source": [],
      "metadata": {
        "id": "O8n6yNRVyXzY"
      },
      "execution_count": null,
      "outputs": []
    }
  ]
}